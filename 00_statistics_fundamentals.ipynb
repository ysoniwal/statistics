{
  "cells": [
    {
      "cell_type": "markdown",
      "metadata": {
        "id": "view-in-github",
        "colab_type": "text"
      },
      "source": [
        "<a href=\"https://colab.research.google.com/github/ysoniwal/statistics/blob/main/00_statistics_fundamentals.ipynb\" target=\"_parent\"><img src=\"https://colab.research.google.com/assets/colab-badge.svg\" alt=\"Open In Colab\"/></a>"
      ]
    },
    {
      "cell_type": "markdown",
      "metadata": {
        "id": "2hePn8_pIoC7"
      },
      "source": [
        "### Height data to understand statistics and make some plots \n",
        "Data downloaded from [Kaggle](https://www.kaggle.com/datasets/burnoutminer/heights-and-weights-dataset?select=SOCR-HeightWeight.csv)\n"
      ]
    },
    {
      "cell_type": "code",
      "execution_count": null,
      "metadata": {
        "id": "jn4XP2n1G5tZ"
      },
      "outputs": [],
      "source": [
        "import pandas as pd\n",
        "\n",
        "df = pd.read_csv(\"https://raw.githubusercontent.com/ysoniwal/statistics/main/SOCR-HeightWeight.csv\")\n",
        "df.drop(\"Index\", axis = 1, inplace = True)\n",
        "df.columns = [\"height\", \"weight\"]"
      ]
    },
    {
      "cell_type": "code",
      "execution_count": null,
      "metadata": {
        "colab": {
          "base_uri": "https://localhost:8080/",
          "height": 206
        },
        "id": "P1Gr7dNOIfZK",
        "outputId": "4f36c8fb-7c66-4a4a-ab5b-c8145e4a8079"
      },
      "outputs": [
        {
          "output_type": "execute_result",
          "data": {
            "text/plain": [
              "     height    weight\n",
              "0  65.78331  112.9925\n",
              "1  71.51521  136.4873\n",
              "2  69.39874  153.0269\n",
              "3  68.21660  142.3354\n",
              "4  67.78781  144.2971"
            ],
            "text/html": [
              "\n",
              "  <div id=\"df-ea4b9f2f-e487-49c5-a589-c7aca11a6f35\">\n",
              "    <div class=\"colab-df-container\">\n",
              "      <div>\n",
              "<style scoped>\n",
              "    .dataframe tbody tr th:only-of-type {\n",
              "        vertical-align: middle;\n",
              "    }\n",
              "\n",
              "    .dataframe tbody tr th {\n",
              "        vertical-align: top;\n",
              "    }\n",
              "\n",
              "    .dataframe thead th {\n",
              "        text-align: right;\n",
              "    }\n",
              "</style>\n",
              "<table border=\"1\" class=\"dataframe\">\n",
              "  <thead>\n",
              "    <tr style=\"text-align: right;\">\n",
              "      <th></th>\n",
              "      <th>height</th>\n",
              "      <th>weight</th>\n",
              "    </tr>\n",
              "  </thead>\n",
              "  <tbody>\n",
              "    <tr>\n",
              "      <th>0</th>\n",
              "      <td>65.78331</td>\n",
              "      <td>112.9925</td>\n",
              "    </tr>\n",
              "    <tr>\n",
              "      <th>1</th>\n",
              "      <td>71.51521</td>\n",
              "      <td>136.4873</td>\n",
              "    </tr>\n",
              "    <tr>\n",
              "      <th>2</th>\n",
              "      <td>69.39874</td>\n",
              "      <td>153.0269</td>\n",
              "    </tr>\n",
              "    <tr>\n",
              "      <th>3</th>\n",
              "      <td>68.21660</td>\n",
              "      <td>142.3354</td>\n",
              "    </tr>\n",
              "    <tr>\n",
              "      <th>4</th>\n",
              "      <td>67.78781</td>\n",
              "      <td>144.2971</td>\n",
              "    </tr>\n",
              "  </tbody>\n",
              "</table>\n",
              "</div>\n",
              "      <button class=\"colab-df-convert\" onclick=\"convertToInteractive('df-ea4b9f2f-e487-49c5-a589-c7aca11a6f35')\"\n",
              "              title=\"Convert this dataframe to an interactive table.\"\n",
              "              style=\"display:none;\">\n",
              "        \n",
              "  <svg xmlns=\"http://www.w3.org/2000/svg\" height=\"24px\"viewBox=\"0 0 24 24\"\n",
              "       width=\"24px\">\n",
              "    <path d=\"M0 0h24v24H0V0z\" fill=\"none\"/>\n",
              "    <path d=\"M18.56 5.44l.94 2.06.94-2.06 2.06-.94-2.06-.94-.94-2.06-.94 2.06-2.06.94zm-11 1L8.5 8.5l.94-2.06 2.06-.94-2.06-.94L8.5 2.5l-.94 2.06-2.06.94zm10 10l.94 2.06.94-2.06 2.06-.94-2.06-.94-.94-2.06-.94 2.06-2.06.94z\"/><path d=\"M17.41 7.96l-1.37-1.37c-.4-.4-.92-.59-1.43-.59-.52 0-1.04.2-1.43.59L10.3 9.45l-7.72 7.72c-.78.78-.78 2.05 0 2.83L4 21.41c.39.39.9.59 1.41.59.51 0 1.02-.2 1.41-.59l7.78-7.78 2.81-2.81c.8-.78.8-2.07 0-2.86zM5.41 20L4 18.59l7.72-7.72 1.47 1.35L5.41 20z\"/>\n",
              "  </svg>\n",
              "      </button>\n",
              "      \n",
              "  <style>\n",
              "    .colab-df-container {\n",
              "      display:flex;\n",
              "      flex-wrap:wrap;\n",
              "      gap: 12px;\n",
              "    }\n",
              "\n",
              "    .colab-df-convert {\n",
              "      background-color: #E8F0FE;\n",
              "      border: none;\n",
              "      border-radius: 50%;\n",
              "      cursor: pointer;\n",
              "      display: none;\n",
              "      fill: #1967D2;\n",
              "      height: 32px;\n",
              "      padding: 0 0 0 0;\n",
              "      width: 32px;\n",
              "    }\n",
              "\n",
              "    .colab-df-convert:hover {\n",
              "      background-color: #E2EBFA;\n",
              "      box-shadow: 0px 1px 2px rgba(60, 64, 67, 0.3), 0px 1px 3px 1px rgba(60, 64, 67, 0.15);\n",
              "      fill: #174EA6;\n",
              "    }\n",
              "\n",
              "    [theme=dark] .colab-df-convert {\n",
              "      background-color: #3B4455;\n",
              "      fill: #D2E3FC;\n",
              "    }\n",
              "\n",
              "    [theme=dark] .colab-df-convert:hover {\n",
              "      background-color: #434B5C;\n",
              "      box-shadow: 0px 1px 3px 1px rgba(0, 0, 0, 0.15);\n",
              "      filter: drop-shadow(0px 1px 2px rgba(0, 0, 0, 0.3));\n",
              "      fill: #FFFFFF;\n",
              "    }\n",
              "  </style>\n",
              "\n",
              "      <script>\n",
              "        const buttonEl =\n",
              "          document.querySelector('#df-ea4b9f2f-e487-49c5-a589-c7aca11a6f35 button.colab-df-convert');\n",
              "        buttonEl.style.display =\n",
              "          google.colab.kernel.accessAllowed ? 'block' : 'none';\n",
              "\n",
              "        async function convertToInteractive(key) {\n",
              "          const element = document.querySelector('#df-ea4b9f2f-e487-49c5-a589-c7aca11a6f35');\n",
              "          const dataTable =\n",
              "            await google.colab.kernel.invokeFunction('convertToInteractive',\n",
              "                                                     [key], {});\n",
              "          if (!dataTable) return;\n",
              "\n",
              "          const docLinkHtml = 'Like what you see? Visit the ' +\n",
              "            '<a target=\"_blank\" href=https://colab.research.google.com/notebooks/data_table.ipynb>data table notebook</a>'\n",
              "            + ' to learn more about interactive tables.';\n",
              "          element.innerHTML = '';\n",
              "          dataTable['output_type'] = 'display_data';\n",
              "          await google.colab.output.renderOutput(dataTable, element);\n",
              "          const docLink = document.createElement('div');\n",
              "          docLink.innerHTML = docLinkHtml;\n",
              "          element.appendChild(docLink);\n",
              "        }\n",
              "      </script>\n",
              "    </div>\n",
              "  </div>\n",
              "  "
            ]
          },
          "metadata": {},
          "execution_count": 23
        }
      ],
      "source": [
        "df.head()"
      ]
    },
    {
      "cell_type": "code",
      "execution_count": null,
      "metadata": {
        "colab": {
          "base_uri": "https://localhost:8080/"
        },
        "id": "RTfR743nIzhI",
        "outputId": "2f629468-7bf1-4bb8-85c4-2826d4bab486"
      },
      "outputs": [
        {
          "output_type": "execute_result",
          "data": {
            "text/plain": [
              "(height    25000\n",
              " weight    25000\n",
              " dtype: int64, 25000)"
            ]
          },
          "metadata": {},
          "execution_count": 24
        }
      ],
      "source": [
        "df.count(), len(df)"
      ]
    },
    {
      "cell_type": "code",
      "execution_count": null,
      "metadata": {
        "colab": {
          "base_uri": "https://localhost:8080/",
          "height": 265
        },
        "id": "LL2GBbIzJSDg",
        "outputId": "afd9c952-de95-4dee-eb72-d161dc244030"
      },
      "outputs": [
        {
          "output_type": "display_data",
          "data": {
            "text/plain": [
              "<Figure size 432x288 with 1 Axes>"
            ],
            "image/png": "[encoded data removed]"
          },
          "metadata": {
            "needs_background": "light"
          }
        }
      ],
      "source": [
        "import matplotlib.pyplot as plt\n",
        "\n",
        "df[\"height\"].plot(kind = 'hist', bins = 30);"
      ]
    },
    {
      "cell_type": "markdown",
      "metadata": {
        "id": "XtlSPuaOLdu0"
      },
      "source": [
        "### Fitting a normal distribution to the data"
      ]
    },
    {
      "cell_type": "code",
      "execution_count": null,
      "metadata": {
        "colab": {
          "base_uri": "https://localhost:8080/",
          "height": 458
        },
        "id": "15E2u6pDLhBd",
        "outputId": "917a54c4-d363-4205-b784-1ae69c50e787"
      },
      "outputs": [
        {
          "output_type": "display_data",
          "data": {
            "text/plain": [
              "<Figure size 720x504 with 1 Axes>"
            ],
            "image/png": "[encoded data removed]"
          },
          "metadata": {
            "needs_background": "light"
          }
        }
      ],
      "source": [
        "import numpy as np\n",
        "import scipy.stats as stats\n",
        "\n",
        "x = df[\"height\"]\n",
        "\n",
        "plt.figure(figsize = (10, 7))\n",
        "plt.hist(x, bins = 20, density = True, label = 'histogram');\n",
        "\n",
        "xmin, xmax = plt.xlim()\n",
        "\n",
        "pts = np.linspace(xmin, xmax, 100)\n",
        "mu, sigma = np.mean(x), np.std(x)\n",
        "\n",
        "y = stats.norm.pdf(pts, mu, sigma)\n",
        "\n",
        "plt.plot(pts, y, c = 'k', linewidth=2,  label = 'normal_dist')\n",
        "\n",
        "plt.title(\"Histogram and normal dist pdf of heights (in inch)\")\n",
        "plt.xlabel(\"Height\")\n",
        "plt.show();"
      ]
    },
    {
      "cell_type": "markdown",
      "source": [
        "### Sample statistics v/s population statistics\n",
        "\n",
        "In reality we never have population data. We just have samples and based on that we *estimate* statistics\n",
        "\n",
        "Population mean $$\\mu = \\frac{∑_{i = 1}^{N}X_{i}}{N} $$\n",
        "Population variance $$var(X) = \\frac{∑_{i = 1}^{N}(X_{i} - \\mu) ^2}{N} $$\n",
        "Population standard deviation $$std(X) = \\sqrt{var(X)} $$\n",
        "\n",
        "But since we almost never have population data, we estimate these using sample data\n",
        "\n",
        "Sample mean $$\\bar{x} = \\frac{∑_{i = 1}^{N}X_{i}}{N}$$\n",
        "Sample variance $$var(x) = \\frac{∑_{i = 1}^{N}(X_{i} - \\bar{x} ) ^2}{N-1} $$\n",
        "Sample standard deviation $$std(x) = \\sqrt{var(X)}$$\n",
        "\n",
        "🔑 Note: The division in sample variance is by `N-1` and not `N`. This is to avoid underestimating the population varaince\n",
        "\n",
        "We'll do this exercise with following dataset of 25000 points. Consider these 25000 points as population and caculate population statistics using these. Then take random samples say 10, 30, 100 and 1000 and estimate sample statistics\n",
        "\n",
        "📓: Why is sample variance underestimated when dividing by `N`?\n",
        "\n",
        "Consider following equation: \n",
        "$$\\frac{∑_{i = 1}^{N}(X_{i} - \\mathbf{v} ) ^2}{N-1} $$\n",
        "\n",
        "If we minimize this equation wrt `v` then minima occurs at $v = \\bar{x} $. When we calculate this formula for $v = \\bar{x}$ and $v = \\mu$ then the value for $v = \\bar{x}$ is always less. So to compensate this, we divide by `N-1` while taking sample variance"
      ],
      "metadata": {
        "id": "z1y51DkgWIp5"
      }
    },
    {
      "cell_type": "code",
      "source": [
        "x.shape, x[:5], x[-5:]"
      ],
      "metadata": {
        "colab": {
          "base_uri": "https://localhost:8080/"
        },
        "id": "PAS4yNX-f4rI",
        "outputId": "25001450-5089-4e8c-bd9c-ea91fe61c23e"
      },
      "execution_count": null,
      "outputs": [
        {
          "output_type": "execute_result",
          "data": {
            "text/plain": [
              "((25000,), 0    65.78331\n",
              " 1    71.51521\n",
              " 2    69.39874\n",
              " 3    68.21660\n",
              " 4    67.78781\n",
              " Name: height, dtype: float64, 24995    69.50215\n",
              " 24996    64.54826\n",
              " 24997    64.69855\n",
              " 24998    67.52918\n",
              " 24999    68.87761\n",
              " Name: height, dtype: float64)"
            ]
          },
          "metadata": {},
          "execution_count": 27
        }
      ]
    },
    {
      "cell_type": "markdown",
      "source": [
        "### Population mean, variance and standard deviation"
      ],
      "metadata": {
        "id": "nyICrDkTf_aC"
      }
    },
    {
      "cell_type": "code",
      "source": [
        "m = np.mean(x)\n",
        "v = np.var(x)\n",
        "s = np.sqrt(v)\n",
        "print(f\"Population mean: {m:.2f}, variance: {v:.2f} and standard deviation: {s:.2f}\")"
      ],
      "metadata": {
        "colab": {
          "base_uri": "https://localhost:8080/"
        },
        "id": "_m3qKPixjHHK",
        "outputId": "7d92e91a-205c-4107-f4bf-71c3fbfb6ded"
      },
      "execution_count": null,
      "outputs": [
        {
          "output_type": "stream",
          "name": "stdout",
          "text": [
            "Population mean: 67.99, variance: 3.62 and standard deviation: 1.90\n"
          ]
        }
      ]
    },
    {
      "cell_type": "markdown",
      "source": [
        "### Estimate sample mean, variance and standard deviation"
      ],
      "metadata": {
        "id": "2EYgrADgjAej"
      }
    },
    {
      "cell_type": "code",
      "source": [
        "x1 = np.random.choice(x, 10)\n",
        "x2 = np.random.choice(x, 30)\n",
        "x3 = np.random.choice(x, 100)\n",
        "x4 = np.random.choice(x, 1000)\n",
        "\n",
        "len(x1), len(x2), len(x3), len(x4)"
      ],
      "metadata": {
        "colab": {
          "base_uri": "https://localhost:8080/"
        },
        "id": "qop9MbU0jW9n",
        "outputId": "8f03be14-c115-4242-8ace-ed9b8a48d3c0"
      },
      "execution_count": null,
      "outputs": [
        {
          "output_type": "execute_result",
          "data": {
            "text/plain": [
              "(10, 30, 100, 1000)"
            ]
          },
          "metadata": {},
          "execution_count": 32
        }
      ]
    },
    {
      "cell_type": "code",
      "source": [
        "# Sample means - can calculate in same way as population means\n",
        "m1 = np.mean(x1)\n",
        "m2 = np.mean(x2)\n",
        "m3 = np.mean(x3)\n",
        "m4 = np.mean(x4)\n",
        "\n",
        "## Sample variance\n",
        "v1 = np.sum(np.square(x1 - m1)) / (len(x1) - 1)\n",
        "v2 = np.sum(np.square(x2 - m2)) / (len(x2) - 1)\n",
        "v3 = np.sum(np.square(x3 - m3)) / (len(x3) - 1)\n",
        "v4 = np.sum(np.square(x4 - m4)) / (len(x4) - 1)\n",
        "\n",
        "## Sample standard deviation\n",
        "s1 = np.sqrt(v1)\n",
        "s2 = np.sqrt(v2)\n",
        "s3 = np.sqrt(v3)\n",
        "s4 = np.sqrt(v4)\n",
        "\n",
        "print(f\"\"\"\n",
        "\\t mean \\t var \\t std \\n\n",
        "x1 \\t {m1:.2f} \\t {v1:.2f} \\t {s1:.2f} \\n\n",
        "x2 \\t {m2:.2f} \\t {v2:.2f} \\t {s2:.2f} \\n\n",
        "x3 \\t {m3:.2f} \\t {v3:.2f} \\t {s3:.2f} \\n\n",
        "x4 \\t {m4:.2f} \\t {v4:.2f} \\t {s4:.2f} \\n\n",
        "-----------------------------------------\n",
        "x \\t {m:.2f} \\t {v:.2f} \\t {s:.2f}\n",
        "\"\"\")"
      ],
      "metadata": {
        "colab": {
          "base_uri": "https://localhost:8080/"
        },
        "id": "w_dnvDgnjzaW",
        "outputId": "7f3f8268-d85f-4c32-c716-633f03dda9ad"
      },
      "execution_count": null,
      "outputs": [
        {
          "output_type": "stream",
          "name": "stdout",
          "text": [
            "\n",
            "\t mean \t var \t std \n",
            "\n",
            "x1 \t 66.91 \t 3.15 \t 1.78 \n",
            "\n",
            "x2 \t 68.14 \t 3.41 \t 1.85 \n",
            "\n",
            "x3 \t 68.04 \t 3.69 \t 1.92 \n",
            "\n",
            "x4 \t 67.97 \t 3.75 \t 1.94 \n",
            "\n",
            "-----------------------------------------\n",
            "x \t 67.99 \t 3.62 \t 1.90\n",
            "\n"
          ]
        }
      ]
    },
    {
      "cell_type": "markdown",
      "source": [
        "### Understanding `NULL`, `Alternate` hypothesis and understanding `p-value`\n",
        "\n",
        "Lets create and experiment where we display some items to the users. The user might click the item or not. We denote these as\n",
        "\n",
        "if user clicks = 1\n",
        "\n",
        "if not clicks = 0\n",
        "\n",
        "we define CTR (Click Through Rate) as #clicks / total_items_displayed\n",
        "\n",
        "Now we have a certains CTR in our production systems say 0.05 CTR. Now we do an experiment (say change ad slot positions or do some other modification) then the CTR might change. We want to know if the new metric occured due to a random chance or is it statistical significance. \n",
        "\n",
        "Let's understand all this through a step by step example\n",
        "\n",
        "* Step 1: Create a hypothesis\n",
        "* Step 2: Do the experiment and track the metrics\n",
        "* Step 3: Compare the metric with the hypothesis in Step 1\n",
        "* Step 4: If the data gives strong evidence that there is a difference if initial hypothesis and experiment than we reject the initial hypothise\n",
        "* Step 5: If the data doesn't give us strong evidence that there is a difference in initial hypothese and experiment then we fail to reject the initial hypothesis \n",
        "\n",
        "We start by telling that there is no difference between experiment A (initial or current production or `control`) and experiment B (`feature` or `variant`). This is called **`NULL hypothesis`** (Step 1)\n",
        "\n",
        "If we repeat the experiment on many people and conclude that here is a difference and that the difference didn't occured by random chance then we **`reject the NULL hypothesis`** \n",
        "\n",
        "Alternatively if we repeaat the experiment and coclude that there is a difference but we are not not convinced about the results, i.e. the result might also occur due to random chance, then we **`fail to reject`** the NULL hypothesis\n",
        "\n",
        "To decide whether to reject of fail to reject the NULL hypothesis, we run the data through **`Statistical Test`**. Things required by statistical test\n",
        "\n",
        "1. Data\n",
        "2. NULL Hypothesis\n",
        "3. Alternate Hypothesis\n",
        "\n",
        "In our case **`Alternative Hypothesis`** is just the opposite of NULL hypothesis, i.e. there is a difference between experiment A and experiment B.\n",
        "\n",
        "Statistical Test:\n",
        "\n",
        "NULL Hypothesis: From the overall data of experiment A and experiment B, get the overall CTR. And calculate distances between overall mean and all CTRs (residuals). This is called NULL Hypothesis.\n",
        "\n",
        "Alternate Hypothesis: From the individual data of experiment A and experiment B, get 2 separate CTRs. And calculated residuals separately for A and B. This is called Alternative Hypothesis.\n",
        "\n",
        "If the sum of residuals with alternative hypothesis are much shorter than the sum of residuals with NULL hypothesis then we reject the NULL hypothesis because in this case having 2 separate CTRs make much more sense. \n",
        "\n",
        "Otherwise if the difference between sum of residual of NULL hypothesis and sum of residuals of alternative hypothesis are similar then we fail to reject the NULL hypothesis because in this case having a single CTR makes sense. Similar to saying that if we use 2 CTRs then it overfits the data and it makes sense to use one overall CTR"
      ],
      "metadata": {
        "id": "BaYSLtz4lAVM"
      }
    },
    {
      "cell_type": "markdown",
      "source": [
        "### `p-Values`\n",
        "In above we calculated residuals (distances from mean CTRs) for NULL and alternative hypothesis. Suppose if there is some difference. We want to understand it this difference occured by random chance or not. If `p-Value` is small then we say that there is no difference in experiement A and B and we fail to reject the NULL hypothesis. Generally used threshold is 0.05. If p-value is less than 0.05 then we say that if we do this experiment several times than only 5% of the times we would end up with wrong decisions\n",
        "\n",
        "p-Value only tells us that whether we should reject or fail to reject the null hypothesis. It doesn't tell us *how much different* are NULL hypothesis and alternative hypothesis are?"
      ],
      "metadata": {
        "id": "YAqU2bWRZCcm"
      }
    },
    {
      "cell_type": "markdown",
      "source": [
        "### Calculating p-values"
      ],
      "metadata": {
        "id": "aMZpkeIMSm9M"
      }
    }
  ],
  "metadata": {
    "colab": {
      "collapsed_sections": [],
      "name": "00-statistics_fundamentals.ipynb",
      "provenance": [],
      "authorship_tag": "ABX9TyNfSFFqqtzsWjQqC2WnpL9J",
      "include_colab_link": true
    },
    "kernelspec": {
      "display_name": "Python 3",
      "name": "python3"
    },
    "language_info": {
      "name": "python"
    }
  },
  "nbformat": 4,
  "nbformat_minor": 0
}