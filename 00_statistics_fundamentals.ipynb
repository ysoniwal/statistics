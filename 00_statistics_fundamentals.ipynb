{
  "cells": [
    {
      "cell_type": "markdown",
      "metadata": {
        "id": "view-in-github",
        "colab_type": "text"
      },
      "source": [
        "<a href=\"https://colab.research.google.com/github/ysoniwal/statistics/blob/main/00_statistics_fundamentals.ipynb\" target=\"_parent\"><img src=\"https://colab.research.google.com/assets/colab-badge.svg\" alt=\"Open In Colab\"/></a>"
      ]
    },
    {
      "cell_type": "markdown",
      "metadata": {
        "id": "2hePn8_pIoC7"
      },
      "source": [
        "### Height data to understand statistics and make some plots \n",
        "Data downloaded from [Kaggle](https://www.kaggle.com/datasets/burnoutminer/heights-and-weights-dataset?select=SOCR-HeightWeight.csv)\n"
      ]
    },
    {
      "cell_type": "code",
      "execution_count": null,
      "metadata": {
        "id": "jn4XP2n1G5tZ"
      },
      "outputs": [],
      "source": [
        "import pandas as pd\n",
        "\n",
        "df = pd.read_csv(\"https://raw.githubusercontent.com/ysoniwal/statistics/main/SOCR-HeightWeight.csv\")\n",
        "df.drop(\"Index\", axis = 1, inplace = True)\n",
        "df.columns = [\"height\", \"weight\"]"
      ]
    },
    {
      "cell_type": "code",
      "execution_count": null,
      "metadata": {
        "colab": {
          "base_uri": "https://localhost:8080/",
          "height": 206
        },
        "id": "P1Gr7dNOIfZK",
        "outputId": "5504fd56-2271-4065-d533-0b4496b6d5ac"
      },
      "outputs": [
        {
          "output_type": "execute_result",
          "data": {
            "text/plain": [
              "     height    weight\n",
              "0  65.78331  112.9925\n",
              "1  71.51521  136.4873\n",
              "2  69.39874  153.0269\n",
              "3  68.21660  142.3354\n",
              "4  67.78781  144.2971"
            ],
            "text/html": [
              "\n",
              "  <div id=\"df-a5f223f8-5a93-42e4-9e4e-2c9946bf8725\">\n",
              "    <div class=\"colab-df-container\">\n",
              "      <div>\n",
              "<style scoped>\n",
              "    .dataframe tbody tr th:only-of-type {\n",
              "        vertical-align: middle;\n",
              "    }\n",
              "\n",
              "    .dataframe tbody tr th {\n",
              "        vertical-align: top;\n",
              "    }\n",
              "\n",
              "    .dataframe thead th {\n",
              "        text-align: right;\n",
              "    }\n",
              "</style>\n",
              "<table border=\"1\" class=\"dataframe\">\n",
              "  <thead>\n",
              "    <tr style=\"text-align: right;\">\n",
              "      <th></th>\n",
              "      <th>height</th>\n",
              "      <th>weight</th>\n",
              "    </tr>\n",
              "  </thead>\n",
              "  <tbody>\n",
              "    <tr>\n",
              "      <th>0</th>\n",
              "      <td>65.78331</td>\n",
              "      <td>112.9925</td>\n",
              "    </tr>\n",
              "    <tr>\n",
              "      <th>1</th>\n",
              "      <td>71.51521</td>\n",
              "      <td>136.4873</td>\n",
              "    </tr>\n",
              "    <tr>\n",
              "      <th>2</th>\n",
              "      <td>69.39874</td>\n",
              "      <td>153.0269</td>\n",
              "    </tr>\n",
              "    <tr>\n",
              "      <th>3</th>\n",
              "      <td>68.21660</td>\n",
              "      <td>142.3354</td>\n",
              "    </tr>\n",
              "    <tr>\n",
              "      <th>4</th>\n",
              "      <td>67.78781</td>\n",
              "      <td>144.2971</td>\n",
              "    </tr>\n",
              "  </tbody>\n",
              "</table>\n",
              "</div>\n",
              "      <button class=\"colab-df-convert\" onclick=\"convertToInteractive('df-a5f223f8-5a93-42e4-9e4e-2c9946bf8725')\"\n",
              "              title=\"Convert this dataframe to an interactive table.\"\n",
              "              style=\"display:none;\">\n",
              "        \n",
              "  <svg xmlns=\"http://www.w3.org/2000/svg\" height=\"24px\"viewBox=\"0 0 24 24\"\n",
              "       width=\"24px\">\n",
              "    <path d=\"M0 0h24v24H0V0z\" fill=\"none\"/>\n",
              "    <path d=\"M18.56 5.44l.94 2.06.94-2.06 2.06-.94-2.06-.94-.94-2.06-.94 2.06-2.06.94zm-11 1L8.5 8.5l.94-2.06 2.06-.94-2.06-.94L8.5 2.5l-.94 2.06-2.06.94zm10 10l.94 2.06.94-2.06 2.06-.94-2.06-.94-.94-2.06-.94 2.06-2.06.94z\"/><path d=\"M17.41 7.96l-1.37-1.37c-.4-.4-.92-.59-1.43-.59-.52 0-1.04.2-1.43.59L10.3 9.45l-7.72 7.72c-.78.78-.78 2.05 0 2.83L4 21.41c.39.39.9.59 1.41.59.51 0 1.02-.2 1.41-.59l7.78-7.78 2.81-2.81c.8-.78.8-2.07 0-2.86zM5.41 20L4 18.59l7.72-7.72 1.47 1.35L5.41 20z\"/>\n",
              "  </svg>\n",
              "      </button>\n",
              "      \n",
              "  <style>\n",
              "    .colab-df-container {\n",
              "      display:flex;\n",
              "      flex-wrap:wrap;\n",
              "      gap: 12px;\n",
              "    }\n",
              "\n",
              "    .colab-df-convert {\n",
              "      background-color: #E8F0FE;\n",
              "      border: none;\n",
              "      border-radius: 50%;\n",
              "      cursor: pointer;\n",
              "      display: none;\n",
              "      fill: #1967D2;\n",
              "      height: 32px;\n",
              "      padding: 0 0 0 0;\n",
              "      width: 32px;\n",
              "    }\n",
              "\n",
              "    .colab-df-convert:hover {\n",
              "      background-color: #E2EBFA;\n",
              "      box-shadow: 0px 1px 2px rgba(60, 64, 67, 0.3), 0px 1px 3px 1px rgba(60, 64, 67, 0.15);\n",
              "      fill: #174EA6;\n",
              "    }\n",
              "\n",
              "    [theme=dark] .colab-df-convert {\n",
              "      background-color: #3B4455;\n",
              "      fill: #D2E3FC;\n",
              "    }\n",
              "\n",
              "    [theme=dark] .colab-df-convert:hover {\n",
              "      background-color: #434B5C;\n",
              "      box-shadow: 0px 1px 3px 1px rgba(0, 0, 0, 0.15);\n",
              "      filter: drop-shadow(0px 1px 2px rgba(0, 0, 0, 0.3));\n",
              "      fill: #FFFFFF;\n",
              "    }\n",
              "  </style>\n",
              "\n",
              "      <script>\n",
              "        const buttonEl =\n",
              "          document.querySelector('#df-a5f223f8-5a93-42e4-9e4e-2c9946bf8725 button.colab-df-convert');\n",
              "        buttonEl.style.display =\n",
              "          google.colab.kernel.accessAllowed ? 'block' : 'none';\n",
              "\n",
              "        async function convertToInteractive(key) {\n",
              "          const element = document.querySelector('#df-a5f223f8-5a93-42e4-9e4e-2c9946bf8725');\n",
              "          const dataTable =\n",
              "            await google.colab.kernel.invokeFunction('convertToInteractive',\n",
              "                                                     [key], {});\n",
              "          if (!dataTable) return;\n",
              "\n",
              "          const docLinkHtml = 'Like what you see? Visit the ' +\n",
              "            '<a target=\"_blank\" href=https://colab.research.google.com/notebooks/data_table.ipynb>data table notebook</a>'\n",
              "            + ' to learn more about interactive tables.';\n",
              "          element.innerHTML = '';\n",
              "          dataTable['output_type'] = 'display_data';\n",
              "          await google.colab.output.renderOutput(dataTable, element);\n",
              "          const docLink = document.createElement('div');\n",
              "          docLink.innerHTML = docLinkHtml;\n",
              "          element.appendChild(docLink);\n",
              "        }\n",
              "      </script>\n",
              "    </div>\n",
              "  </div>\n",
              "  "
            ]
          },
          "metadata": {},
          "execution_count": 76
        }
      ],
      "source": [
        "df.head()"
      ]
    },
    {
      "cell_type": "code",
      "execution_count": null,
      "metadata": {
        "colab": {
          "base_uri": "https://localhost:8080/"
        },
        "id": "RTfR743nIzhI",
        "outputId": "cdc29c27-1518-4b36-d2dc-a846b02e6542"
      },
      "outputs": [
        {
          "output_type": "execute_result",
          "data": {
            "text/plain": [
              "(height    25000\n",
              " weight    25000\n",
              " dtype: int64, 25000)"
            ]
          },
          "metadata": {},
          "execution_count": 77
        }
      ],
      "source": [
        "df.count(), len(df)"
      ]
    },
    {
      "cell_type": "code",
      "execution_count": null,
      "metadata": {
        "colab": {
          "base_uri": "https://localhost:8080/",
          "height": 265
        },
        "id": "LL2GBbIzJSDg",
        "outputId": "85a37f85-c832-4870-abba-0661fb0c5ce3"
      },
      "outputs": [
        {
          "output_type": "display_data",
          "data": {
            "text/plain": [
              "<Figure size 432x288 with 1 Axes>"
            ],
            "image/png": "[encoded data removed]"
          },
          "metadata": {
            "needs_background": "light"
          }
        }
      ],
      "source": [
        "import matplotlib.pyplot as plt\n",
        "\n",
        "df[\"height\"].plot(kind = 'hist', bins = 30);"
      ]
    },
    {
      "cell_type": "markdown",
      "metadata": {
        "id": "XtlSPuaOLdu0"
      },
      "source": [
        "### Fitting a normal distribution to the data"
      ]
    },
    {
      "cell_type": "code",
      "execution_count": null,
      "metadata": {
        "colab": {
          "base_uri": "https://localhost:8080/",
          "height": 458
        },
        "id": "15E2u6pDLhBd",
        "outputId": "61717137-6d00-4278-d06d-d1d338cf4423"
      },
      "outputs": [
        {
          "output_type": "display_data",
          "data": {
            "text/plain": [
              "<Figure size 720x504 with 1 Axes>"
            ],
            "image/png": "[encoded data removed]"
          },
          "metadata": {
            "needs_background": "light"
          }
        }
      ],
      "source": [
        "import numpy as np\n",
        "import scipy.stats as stats\n",
        "\n",
        "x = df[\"height\"]\n",
        "\n",
        "plt.figure(figsize = (10, 7))\n",
        "plt.hist(x, bins = 20, density = True, label = 'histogram');\n",
        "\n",
        "xmin, xmax = plt.xlim()\n",
        "\n",
        "pts = np.linspace(xmin, xmax, 100)\n",
        "mu, sigma = np.mean(x), np.std(x)\n",
        "\n",
        "y = stats.norm.pdf(pts, mu, sigma)\n",
        "\n",
        "plt.plot(pts, y, c = 'k', linewidth=2,  label = 'normal_dist')\n",
        "\n",
        "plt.title(\"Histogram and normal dist pdf of heights (in inch)\")\n",
        "plt.xlabel(\"Height\")\n",
        "plt.show();"
      ]
    },
    {
      "cell_type": "markdown",
      "source": [
        "### Sample statistics v/s population statistics\n",
        "\n",
        "In reality we never have population data. We just have samples and based on that we *estimate* statistics\n",
        "\n",
        "Population mean $$\\mu = \\frac{∑_{i = 1}^{N}X_{i}}{N} $$\n",
        "Population variance $$var(X) = \\frac{∑_{i = 1}^{N}(X_{i} - \\mu) ^2}{N} $$\n",
        "Population standard deviation $$std(X) = \\sqrt{var(X)} $$\n",
        "\n",
        "But since we almost never have population data, we estimate these using sample data\n",
        "\n",
        "Sample mean $$\\bar{x} = \\frac{∑_{i = 1}^{N}X_{i}}{N}$$\n",
        "Sample variance $$var(x) = \\frac{∑_{i = 1}^{N}(X_{i} - \\bar{x} ) ^2}{N-1} $$\n",
        "Sample standard deviation $$std(x) = \\sqrt{var(X)}$$\n",
        "\n",
        "🔑 Note: The division in sample variance is by `N-1` and not `N`. This is to avoid underestimating the population varaince\n",
        "\n",
        "We'll do this exercise with following dataset of 25000 points. Consider these 25000 points as population and caculate population statistics using these. Then take random samples say 10, 30, 100 and 1000 and estimate sample statistics\n",
        "\n",
        "📓: Why is sample variance underestimated when dividing by `N`?\n",
        "\n",
        "Consider following equation: \n",
        "$$\\frac{∑_{i = 1}^{N}(X_{i} - \\mathbf{v} ) ^2}{N-1} $$\n",
        "\n",
        "If we minimize this equation wrt `v` then minima occurs at $v = \\bar{x} $. When we calculate this formula for $v = \\bar{x}$ and $v = \\mu$ then the value for $v = \\bar{x}$ is always less. So to compensate this, we divide by `N-1` while taking sample variance"
      ],
      "metadata": {
        "id": "z1y51DkgWIp5"
      }
    },
    {
      "cell_type": "code",
      "source": [
        "x.shape, x[:5], x[-5:]"
      ],
      "metadata": {
        "colab": {
          "base_uri": "https://localhost:8080/"
        },
        "id": "PAS4yNX-f4rI",
        "outputId": "854d737b-aa7d-4d6d-eac7-296c5f4f2f45"
      },
      "execution_count": null,
      "outputs": [
        {
          "output_type": "execute_result",
          "data": {
            "text/plain": [
              "((25000,), 0    65.78331\n",
              " 1    71.51521\n",
              " 2    69.39874\n",
              " 3    68.21660\n",
              " 4    67.78781\n",
              " Name: height, dtype: float64, 24995    69.50215\n",
              " 24996    64.54826\n",
              " 24997    64.69855\n",
              " 24998    67.52918\n",
              " 24999    68.87761\n",
              " Name: height, dtype: float64)"
            ]
          },
          "metadata": {},
          "execution_count": 80
        }
      ]
    },
    {
      "cell_type": "markdown",
      "source": [
        "### Population mean, variance and standard deviation"
      ],
      "metadata": {
        "id": "nyICrDkTf_aC"
      }
    },
    {
      "cell_type": "code",
      "source": [
        "m = np.mean(x)\n",
        "v = np.var(x)\n",
        "s = np.sqrt(v)\n",
        "print(f\"Population mean: {m:.2f}, variance: {v:.2f} and standard deviation: {s:.2f}\")"
      ],
      "metadata": {
        "colab": {
          "base_uri": "https://localhost:8080/"
        },
        "id": "_m3qKPixjHHK",
        "outputId": "141767c5-1400-4b2f-ef71-2780a402e769"
      },
      "execution_count": null,
      "outputs": [
        {
          "output_type": "stream",
          "name": "stdout",
          "text": [
            "Population mean: 67.99, variance: 3.62 and standard deviation: 1.90\n"
          ]
        }
      ]
    },
    {
      "cell_type": "markdown",
      "source": [
        "### Estimate sample mean, variance and standard deviation"
      ],
      "metadata": {
        "id": "2EYgrADgjAej"
      }
    },
    {
      "cell_type": "code",
      "source": [
        "x1 = np.random.choice(x, 10)\n",
        "x2 = np.random.choice(x, 30)\n",
        "x3 = np.random.choice(x, 100)\n",
        "x4 = np.random.choice(x, 1000)\n",
        "\n",
        "len(x1), len(x2), len(x3), len(x4)"
      ],
      "metadata": {
        "colab": {
          "base_uri": "https://localhost:8080/"
        },
        "id": "qop9MbU0jW9n",
        "outputId": "b0b47cb5-a091-442f-9aac-5f9f744d2b09"
      },
      "execution_count": null,
      "outputs": [
        {
          "output_type": "execute_result",
          "data": {
            "text/plain": [
              "(10, 30, 100, 1000)"
            ]
          },
          "metadata": {},
          "execution_count": 82
        }
      ]
    },
    {
      "cell_type": "code",
      "source": [
        "# Sample means - can calculate in same way as population means\n",
        "m1 = np.mean(x1)\n",
        "m2 = np.mean(x2)\n",
        "m3 = np.mean(x3)\n",
        "m4 = np.mean(x4)\n",
        "\n",
        "## Sample variance\n",
        "v1 = np.sum(np.square(x1 - m1)) / (len(x1) - 1)\n",
        "v2 = np.sum(np.square(x2 - m2)) / (len(x2) - 1)\n",
        "v3 = np.sum(np.square(x3 - m3)) / (len(x3) - 1)\n",
        "v4 = np.sum(np.square(x4 - m4)) / (len(x4) - 1)\n",
        "\n",
        "## Sample standard deviation\n",
        "s1 = np.sqrt(v1)\n",
        "s2 = np.sqrt(v2)\n",
        "s3 = np.sqrt(v3)\n",
        "s4 = np.sqrt(v4)\n",
        "\n",
        "print(f\"\"\"\n",
        "\\t mean \\t var \\t std \\n\n",
        "x1 \\t {m1:.2f} \\t {v1:.2f} \\t {s1:.2f} \\n\n",
        "x2 \\t {m2:.2f} \\t {v2:.2f} \\t {s2:.2f} \\n\n",
        "x3 \\t {m3:.2f} \\t {v3:.2f} \\t {s3:.2f} \\n\n",
        "x4 \\t {m4:.2f} \\t {v4:.2f} \\t {s4:.2f} \\n\n",
        "-----------------------------------------\n",
        "x \\t {m:.2f} \\t {v:.2f} \\t {s:.2f}\n",
        "\"\"\")"
      ],
      "metadata": {
        "colab": {
          "base_uri": "https://localhost:8080/"
        },
        "id": "w_dnvDgnjzaW",
        "outputId": "138366f7-ac97-4566-cf2f-a08a2264dab9"
      },
      "execution_count": null,
      "outputs": [
        {
          "output_type": "stream",
          "name": "stdout",
          "text": [
            "\n",
            "\t mean \t var \t std \n",
            "\n",
            "x1 \t 67.99 \t 2.91 \t 1.71 \n",
            "\n",
            "x2 \t 68.09 \t 3.60 \t 1.90 \n",
            "\n",
            "x3 \t 67.67 \t 3.26 \t 1.80 \n",
            "\n",
            "x4 \t 68.04 \t 3.59 \t 1.89 \n",
            "\n",
            "-----------------------------------------\n",
            "x \t 67.99 \t 3.62 \t 1.90\n",
            "\n"
          ]
        }
      ]
    },
    {
      "cell_type": "markdown",
      "source": [
        "### Understanding `NULL`, `Alternate` hypothesis and understanding `p-value`\n",
        "\n",
        "Lets create and experiment where we display some items to the users. The user might click the item or not. We denote these as\n",
        "\n",
        "if user clicks = 1\n",
        "\n",
        "if not clicks = 0\n",
        "\n",
        "we define CTR (Click Through Rate) as #clicks / total_items_displayed\n",
        "\n",
        "Now we have a certains CTR in our production systems say 0.05 CTR. Now we do an experiment (say change ad slot positions or do some other modification) then the CTR might change. We want to know if the new metric occured due to a random chance or is it statistical significance. \n",
        "\n",
        "Let's understand all this through a step by step example\n",
        "\n",
        "* Step 1: Create a hypothesis\n",
        "* Step 2: Do the experiment and track the metrics\n",
        "* Step 3: Compare the metric with the hypothesis in Step 1\n",
        "* Step 4: If the data gives strong evidence that there is a difference if initial hypothesis and experiment than we reject the initial hypothise\n",
        "* Step 5: If the data doesn't give us strong evidence that there is a difference in initial hypothese and experiment then we fail to reject the initial hypothesis \n",
        "\n",
        "We start by telling that there is no difference between experiment A (initial or current production or `control`) and experiment B (`feature` or `variant`). This is called **`NULL hypothesis`** (Step 1)\n",
        "\n",
        "If we repeat the experiment on many people and conclude that here is a difference and that the difference didn't occured by random chance then we **`reject the NULL hypothesis`** \n",
        "\n",
        "Alternatively if we repeaat the experiment and coclude that there is a difference but we are not not convinced about the results, i.e. the result might also occur due to random chance, then we **`fail to reject`** the NULL hypothesis\n",
        "\n",
        "To decide whether to reject of fail to reject the NULL hypothesis, we run the data through **`Statistical Test`**. Things required by statistical test\n",
        "\n",
        "1. Data\n",
        "2. NULL Hypothesis\n",
        "3. Alternate Hypothesis\n",
        "\n",
        "In our case **`Alternative Hypothesis`** is just the opposite of NULL hypothesis, i.e. there is a difference between experiment A and experiment B.\n",
        "\n",
        "Statistical Test:\n",
        "\n",
        "NULL Hypothesis: From the overall data of experiment A and experiment B, get the overall CTR. And calculate distances between overall mean and all CTRs (residuals). This is called NULL Hypothesis.\n",
        "\n",
        "Alternate Hypothesis: From the individual data of experiment A and experiment B, get 2 separate CTRs. And calculated residuals separately for A and B. This is called Alternative Hypothesis.\n",
        "\n",
        "If the sum of residuals with alternative hypothesis are much shorter than the sum of residuals with NULL hypothesis then we reject the NULL hypothesis because in this case having 2 separate CTRs make much more sense. \n",
        "\n",
        "Otherwise if the difference between sum of residual of NULL hypothesis and sum of residuals of alternative hypothesis are similar then we fail to reject the NULL hypothesis because in this case having a single CTR makes sense. Similar to saying that if we use 2 CTRs then it overfits the data and it makes sense to use one overall CTR"
      ],
      "metadata": {
        "id": "BaYSLtz4lAVM"
      }
    },
    {
      "cell_type": "markdown",
      "source": [
        "### `p-Values`\n",
        "In above we calculated residuals (distances from mean CTRs) for NULL and alternative hypothesis. Suppose if there is some difference. We want to understand it this difference occured by random chance or not. If `p-Value` is small then we say that the difference in experiement A and B has occured by chance and we reject the NULL hypothesis. Generally used threshold is 0.05. If p-value is less than 0.05 then we say that if we do this experiment several times than only 5% of the times we would end up with wrong decisions\n",
        "\n",
        "p-Value only tells us that whether we should reject or fail to reject the null hypothesis. It doesn't tell us *how much different* are NULL hypothesis and alternative hypothesis are?"
      ],
      "metadata": {
        "id": "YAqU2bWRZCcm"
      }
    },
    {
      "cell_type": "markdown",
      "source": [
        "### Calculating p-values\n",
        "\n",
        "`p-Value` of an event = Probability of the event + Probability of events equally rare + Probability of rarer events \n",
        "\n",
        "Example: p-Value of getting 4 heads and 1 tails in 5 tosses of a coin\n",
        "\n",
        "```\n",
        "Events \n",
        "1. 5H in 1 way:        P = 1/32   -> Rarer event\n",
        "2. 4H + 1T in 5 ways:  P = 5/32   -> Event\n",
        "3. 3H + 2T in 10 ways: P = 10/32\n",
        "4. 2H + 3T in 10 ways: P = 10/32\n",
        "5. 1H + 4T in 5 ways:  P = 5/32   -> Equally rare event\n",
        "6. 5H in 1 way:        P = 1/32   -> Rarer event\n",
        "\n",
        "p-value of getting 4H and 1T = 5/32 + (5/32) + (1/32 + 1/32) = 12 / 32 = 0.375\n",
        "```\n",
        "\n",
        "Threhold of statistical significance = 0.05 (5%)\n",
        "\n",
        "(p-value of our event $>$ threshold) $=>$ Fail to Reject the null hypothesis \n",
        "\n",
        "Null hypothesis = The coin is no different than any other coin, i.e. the coin is unbiased coin, i.e. P(H) = P(T) = 0.5\n",
        "\n",
        "Alternate hypothesis = The coin is different than an unbiased coin, i.e. P(H) != 0.5\n",
        "\n",
        "We Fail to Reject the Null hypothesis in this case. So we say that the coin is no different than an unbiased coin.\n",
        "\n",
        "`Rewording this example using distribution analogies`\n",
        "\n",
        "Null Hypothesis: The coin the no different than any other coin, i.e. the coin is unbiased, i.e. $P(H) = P(T) = 0.5 $: This is statistical distribution of the coin outcomes\n",
        "\n",
        "Alternate Hypothesis: The coin is not unbiased. i.e., $P(H) \\neq 0.5$ and $P(T) \\neq 0.5$\n",
        "\n",
        "So we toss the coin 100 times and get 60H and 40T. Then we calculate p-value of this event. If we get\n",
        "\n",
        "p-value < 0.05 -> Reject Null hypothesis, i.e. this coin is a special coin. P(H) and P(T) $\\neq$ 0.5\n",
        "\n",
        "p-value > 0.05 -> Fail to reject the null hupothesis, i.e. the coin is no different than an unbiased coin, i.e. the coin is unbiased. It comes from same distribution than the uniform distribution. i.e. P(H) = P(T) = 0.5\n",
        "\n"
      ],
      "metadata": {
        "id": "aMZpkeIMSm9M"
      }
    },
    {
      "cell_type": "markdown",
      "source": [
        "```\n",
        "Events associated with 100 coin tosses\n",
        "(Total events) = 2^100\n",
        "100H       100C0 * Total events\n",
        "99H + 1T   100C1 * Total events\n",
        "98H + 2T   100C2 * Total events\n",
        "...\n",
        "2H + 98T   100C2 * Total events\n",
        "1H + 99T   100C1 * Total events\n",
        "100T       100C0 * Total events\n",
        "```"
      ],
      "metadata": {
        "id": "roCKLxh0a8eQ"
      }
    },
    {
      "cell_type": "code",
      "source": [
        "## Lets caculate 100C0 to 100C100 (since 100Ci = 100C(100-i))\n",
        "from scipy.special import comb\n",
        "\n",
        "event_probs = []\n",
        "for i in range(101):\n",
        "  prob = comb(100, i) * np.power(0.5, 100)\n",
        "  event_probs.append(prob)\n",
        "\n",
        "event_probs[:5], event_probs[-5:], len(event_probs), sum(event_probs)"
      ],
      "metadata": {
        "colab": {
          "base_uri": "https://localhost:8080/"
        },
        "id": "5dAVDrFVjSri",
        "outputId": "4c9c12ce-7e49-4ac0-bc48-aa4557d51758"
      },
      "execution_count": null,
      "outputs": [
        {
          "output_type": "execute_result",
          "data": {
            "text/plain": [
              "([7.888609052210118e-31,\n",
              "  7.888609052210118e-29,\n",
              "  3.9048614808440084e-27,\n",
              "  1.275588083742376e-25,\n",
              "  3.093301103075262e-24],\n",
              " [3.093301103075262e-24,\n",
              "  1.275588083742376e-25,\n",
              "  3.9048614808440084e-27,\n",
              "  7.888609052210118e-29,\n",
              "  7.888609052210118e-31],\n",
              " 101,\n",
              " 1.0)"
            ]
          },
          "metadata": {},
          "execution_count": 84
        }
      ]
    },
    {
      "cell_type": "code",
      "source": [
        "import matplotlib.pyplot as plt\n",
        "plt.plot(range(101), event_probs)\n",
        "plt.xlabel(\"i\")\n",
        "plt.ylabel(\"Probability of events\")\n",
        "plt.show()"
      ],
      "metadata": {
        "colab": {
          "base_uri": "https://localhost:8080/",
          "height": 279
        },
        "id": "zFSa_avGjogP",
        "outputId": "29848e23-0c43-4122-f901-798755640a1e"
      },
      "execution_count": null,
      "outputs": [
        {
          "output_type": "display_data",
          "data": {
            "text/plain": [
              "<Figure size 432x288 with 1 Axes>"
            ],
            "image/png": "[encoded data removed]"
          },
          "metadata": {
            "needs_background": "light"
          }
        }
      ]
    },
    {
      "cell_type": "code",
      "source": [
        "def get_p_value(val, event_probs):\n",
        "  return sum([prob for prob in event_probs if prob <= val])"
      ],
      "metadata": {
        "id": "32XbV8lZmSBf"
      },
      "execution_count": null,
      "outputs": []
    },
    {
      "cell_type": "code",
      "source": [
        "## Now suppose if we get 60H and 40T. Then p-value is\n",
        "val = comb(100, 60) * np.power(0.5, 100)\n",
        "## Add all values in event_probs less than val\n",
        "p_value = get_p_value(val, event_probs)\n",
        "p_value, val"
      ],
      "metadata": {
        "colab": {
          "base_uri": "https://localhost:8080/"
        },
        "id": "pIrNEXOnk3a9",
        "outputId": "0b099ea8-f019-4d94-96da-0f7c8687deca"
      },
      "execution_count": null,
      "outputs": [
        {
          "output_type": "execute_result",
          "data": {
            "text/plain": [
              "(0.05688793364098078, 0.010843866711637984)"
            ]
          },
          "metadata": {},
          "execution_count": 87
        }
      ]
    },
    {
      "cell_type": "code",
      "source": [
        "# Fail to reject null hypothesis => Coin is no different than an unbiased coin"
      ],
      "metadata": {
        "id": "5SyxJ5fTqwnR"
      },
      "execution_count": null,
      "outputs": []
    },
    {
      "cell_type": "code",
      "source": [
        "val = comb(100, 50) * np.power(0.5, 100)\n",
        "## Add all values in event_probs less than val\n",
        "p_value = get_p_value(val, event_probs)\n",
        "p_value, val"
      ],
      "metadata": {
        "colab": {
          "base_uri": "https://localhost:8080/"
        },
        "id": "q83kr5gypV1m",
        "outputId": "d3dcfecc-c3cb-482c-a7a5-a5a49846481b"
      },
      "execution_count": null,
      "outputs": [
        {
          "output_type": "execute_result",
          "data": {
            "text/plain": [
              "(1.0, 0.07958923738717873)"
            ]
          },
          "metadata": {},
          "execution_count": 89
        }
      ]
    },
    {
      "cell_type": "code",
      "source": [
        "# Fail to reject null hypothesis => Coin is no different than an unbiased coin"
      ],
      "metadata": {
        "id": "MikGAnwQq53L"
      },
      "execution_count": null,
      "outputs": []
    },
    {
      "cell_type": "code",
      "source": [
        "val = comb(100, 80) * np.power(0.5, 100)\n",
        "p_value = get_p_value(val, event_probs)\n",
        "p_value, val"
      ],
      "metadata": {
        "colab": {
          "base_uri": "https://localhost:8080/"
        },
        "id": "mRrllfW7l2cD",
        "outputId": "2113bde0-a8e2-4687-ed28-638d5ce7e5f5"
      },
      "execution_count": null,
      "outputs": [
        {
          "output_type": "execute_result",
          "data": {
            "text/plain": [
              "(1.115908905725195e-09, 4.228163267601581e-10)"
            ]
          },
          "metadata": {},
          "execution_count": 91
        }
      ]
    },
    {
      "cell_type": "code",
      "source": [
        "# p-value small => Reject null hypothesis => Coin is small"
      ],
      "metadata": {
        "id": "axipUPMKou7D"
      },
      "execution_count": null,
      "outputs": []
    },
    {
      "cell_type": "code",
      "source": [
        "### Now check this for every value of heads and tails\n",
        "for i in range(101): # 0 heads to 100 heads\n",
        "  prob_of_event = comb(100, i) * np.power(0.5, 100)\n",
        "  p_value_of_event = get_p_value(prob_of_event, event_probs)\n",
        "\n",
        "  if p_value_of_event < 0.05: # Reject the null hypothesis\n",
        "    print(f\"{i}H,{100-i}T\\t pvalue={p_value_of_event:.3f}\\t Coin is special\")\n",
        "  else:\n",
        "    print(f\"{i}H,{100-i}T\\t pvalue={p_value_of_event:.3f}\\t Coin is no other than unbiased coin\")"
      ],
      "metadata": {
        "colab": {
          "base_uri": "https://localhost:8080/"
        },
        "id": "lvJF46u9p-vu",
        "outputId": "c2fa2cc9-18b2-4e2f-c4ac-63e05d88837e"
      },
      "execution_count": null,
      "outputs": [
        {
          "output_type": "stream",
          "name": "stdout",
          "text": [
            "0H,100T\t pvalue=0.000\t Coin is special\n",
            "1H,99T\t pvalue=0.000\t Coin is special\n",
            "2H,98T\t pvalue=0.000\t Coin is special\n",
            "3H,97T\t pvalue=0.000\t Coin is special\n",
            "4H,96T\t pvalue=0.000\t Coin is special\n",
            "5H,95T\t pvalue=0.000\t Coin is special\n",
            "6H,94T\t pvalue=0.000\t Coin is special\n",
            "7H,93T\t pvalue=0.000\t Coin is special\n",
            "8H,92T\t pvalue=0.000\t Coin is special\n",
            "9H,91T\t pvalue=0.000\t Coin is special\n",
            "10H,90T\t pvalue=0.000\t Coin is special\n",
            "11H,89T\t pvalue=0.000\t Coin is special\n",
            "12H,88T\t pvalue=0.000\t Coin is special\n",
            "13H,87T\t pvalue=0.000\t Coin is special\n",
            "14H,86T\t pvalue=0.000\t Coin is special\n",
            "15H,85T\t pvalue=0.000\t Coin is special\n",
            "16H,84T\t pvalue=0.000\t Coin is special\n",
            "17H,83T\t pvalue=0.000\t Coin is special\n",
            "18H,82T\t pvalue=0.000\t Coin is special\n",
            "19H,81T\t pvalue=0.000\t Coin is special\n",
            "20H,80T\t pvalue=0.000\t Coin is special\n",
            "21H,79T\t pvalue=0.000\t Coin is special\n",
            "22H,78T\t pvalue=0.000\t Coin is special\n",
            "23H,77T\t pvalue=0.000\t Coin is special\n",
            "24H,76T\t pvalue=0.000\t Coin is special\n",
            "25H,75T\t pvalue=0.000\t Coin is special\n",
            "26H,74T\t pvalue=0.000\t Coin is special\n",
            "27H,73T\t pvalue=0.000\t Coin is special\n",
            "28H,72T\t pvalue=0.000\t Coin is special\n",
            "29H,71T\t pvalue=0.000\t Coin is special\n",
            "30H,70T\t pvalue=0.000\t Coin is special\n",
            "31H,69T\t pvalue=0.000\t Coin is special\n",
            "32H,68T\t pvalue=0.000\t Coin is special\n",
            "33H,67T\t pvalue=0.001\t Coin is special\n",
            "34H,66T\t pvalue=0.002\t Coin is special\n",
            "35H,65T\t pvalue=0.004\t Coin is special\n",
            "36H,64T\t pvalue=0.007\t Coin is special\n",
            "37H,63T\t pvalue=0.012\t Coin is special\n",
            "38H,62T\t pvalue=0.021\t Coin is special\n",
            "39H,61T\t pvalue=0.035\t Coin is special\n",
            "40H,60T\t pvalue=0.057\t Coin is no other than unbiased coin\n",
            "41H,59T\t pvalue=0.089\t Coin is no other than unbiased coin\n",
            "42H,58T\t pvalue=0.133\t Coin is no other than unbiased coin\n",
            "43H,57T\t pvalue=0.193\t Coin is no other than unbiased coin\n",
            "44H,56T\t pvalue=0.271\t Coin is no other than unbiased coin\n",
            "45H,55T\t pvalue=0.368\t Coin is no other than unbiased coin\n",
            "46H,54T\t pvalue=0.484\t Coin is no other than unbiased coin\n",
            "47H,53T\t pvalue=0.617\t Coin is no other than unbiased coin\n",
            "48H,52T\t pvalue=0.764\t Coin is no other than unbiased coin\n",
            "49H,51T\t pvalue=0.920\t Coin is no other than unbiased coin\n",
            "50H,50T\t pvalue=1.000\t Coin is no other than unbiased coin\n",
            "51H,49T\t pvalue=0.920\t Coin is no other than unbiased coin\n",
            "52H,48T\t pvalue=0.764\t Coin is no other than unbiased coin\n",
            "53H,47T\t pvalue=0.617\t Coin is no other than unbiased coin\n",
            "54H,46T\t pvalue=0.484\t Coin is no other than unbiased coin\n",
            "55H,45T\t pvalue=0.368\t Coin is no other than unbiased coin\n",
            "56H,44T\t pvalue=0.271\t Coin is no other than unbiased coin\n",
            "57H,43T\t pvalue=0.193\t Coin is no other than unbiased coin\n",
            "58H,42T\t pvalue=0.133\t Coin is no other than unbiased coin\n",
            "59H,41T\t pvalue=0.089\t Coin is no other than unbiased coin\n",
            "60H,40T\t pvalue=0.057\t Coin is no other than unbiased coin\n",
            "61H,39T\t pvalue=0.035\t Coin is special\n",
            "62H,38T\t pvalue=0.021\t Coin is special\n",
            "63H,37T\t pvalue=0.012\t Coin is special\n",
            "64H,36T\t pvalue=0.007\t Coin is special\n",
            "65H,35T\t pvalue=0.004\t Coin is special\n",
            "66H,34T\t pvalue=0.002\t Coin is special\n",
            "67H,33T\t pvalue=0.001\t Coin is special\n",
            "68H,32T\t pvalue=0.000\t Coin is special\n",
            "69H,31T\t pvalue=0.000\t Coin is special\n",
            "70H,30T\t pvalue=0.000\t Coin is special\n",
            "71H,29T\t pvalue=0.000\t Coin is special\n",
            "72H,28T\t pvalue=0.000\t Coin is special\n",
            "73H,27T\t pvalue=0.000\t Coin is special\n",
            "74H,26T\t pvalue=0.000\t Coin is special\n",
            "75H,25T\t pvalue=0.000\t Coin is special\n",
            "76H,24T\t pvalue=0.000\t Coin is special\n",
            "77H,23T\t pvalue=0.000\t Coin is special\n",
            "78H,22T\t pvalue=0.000\t Coin is special\n",
            "79H,21T\t pvalue=0.000\t Coin is special\n",
            "80H,20T\t pvalue=0.000\t Coin is special\n",
            "81H,19T\t pvalue=0.000\t Coin is special\n",
            "82H,18T\t pvalue=0.000\t Coin is special\n",
            "83H,17T\t pvalue=0.000\t Coin is special\n",
            "84H,16T\t pvalue=0.000\t Coin is special\n",
            "85H,15T\t pvalue=0.000\t Coin is special\n",
            "86H,14T\t pvalue=0.000\t Coin is special\n",
            "87H,13T\t pvalue=0.000\t Coin is special\n",
            "88H,12T\t pvalue=0.000\t Coin is special\n",
            "89H,11T\t pvalue=0.000\t Coin is special\n",
            "90H,10T\t pvalue=0.000\t Coin is special\n",
            "91H,9T\t pvalue=0.000\t Coin is special\n",
            "92H,8T\t pvalue=0.000\t Coin is special\n",
            "93H,7T\t pvalue=0.000\t Coin is special\n",
            "94H,6T\t pvalue=0.000\t Coin is special\n",
            "95H,5T\t pvalue=0.000\t Coin is special\n",
            "96H,4T\t pvalue=0.000\t Coin is special\n",
            "97H,3T\t pvalue=0.000\t Coin is special\n",
            "98H,2T\t pvalue=0.000\t Coin is special\n",
            "99H,1T\t pvalue=0.000\t Coin is special\n",
            "100H,0T\t pvalue=0.000\t Coin is special\n"
          ]
        }
      ]
    },
    {
      "cell_type": "markdown",
      "source": [
        "### Lets do this with dice"
      ],
      "metadata": {
        "id": "2_aIQAJasQPe"
      }
    },
    {
      "cell_type": "markdown",
      "source": [
        "```\n",
        "Outcomes of dice:\n",
        "1, 2, 3, 4, 5, 6\n",
        "P(1) = P(2) = P(3) = P(4) = P(5) = P(6) = 1/6\n",
        "\n",
        "Null hypothesis: This dice is no different than an unbiased dice. i.e. it follows the above dist\n",
        "Alternate hypothesis: This dice comes from some other distibution.\n",
        "\n",
        "We roll the dice 5 times. We want to know the p-value of:\n",
        "1{1} and 4{Other value}\n",
        "\n",
        "Total outcomes = np.power(6, 5) = 7776\n",
        "```"
      ],
      "metadata": {
        "id": "bBVnlutktie_"
      }
    },
    {
      "cell_type": "code",
      "source": [
        "## All possible outcomes\n",
        "from itertools import product\n",
        "\n",
        "all_outcomes = list(product(range(1,7), repeat=5)) #\n",
        "len(all_outcomes), all_outcomes[:10]"
      ],
      "metadata": {
        "colab": {
          "base_uri": "https://localhost:8080/"
        },
        "id": "4uKwVm4d0wHY",
        "outputId": "f71b3617-7467-4e95-e8a2-0ee2285751f5"
      },
      "execution_count": null,
      "outputs": [
        {
          "output_type": "execute_result",
          "data": {
            "text/plain": [
              "(7776,\n",
              " [(1, 1, 1, 1, 1),\n",
              "  (1, 1, 1, 1, 2),\n",
              "  (1, 1, 1, 1, 3),\n",
              "  (1, 1, 1, 1, 4),\n",
              "  (1, 1, 1, 1, 5),\n",
              "  (1, 1, 1, 1, 6),\n",
              "  (1, 1, 1, 2, 1),\n",
              "  (1, 1, 1, 2, 2),\n",
              "  (1, 1, 1, 2, 3),\n",
              "  (1, 1, 1, 2, 4)])"
            ]
          },
          "metadata": {},
          "execution_count": 94
        }
      ]
    },
    {
      "cell_type": "markdown",
      "source": [
        "```\n",
        "Create subevents\n",
        "Events with 0 1's\n",
        "Events with 1 1's\n",
        "Events with 2 1's\n",
        "Events with 3 1's\n",
        "Events with 4 1's\n",
        "Events with 5 1's\n",
        "```"
      ],
      "metadata": {
        "id": "-3PQBRo11M7a"
      }
    },
    {
      "cell_type": "code",
      "source": [
        "list(all_outcomes[1]).count(1)"
      ],
      "metadata": {
        "colab": {
          "base_uri": "https://localhost:8080/"
        },
        "id": "Jv9vxFgR1pox",
        "outputId": "aeef94b5-e24e-49e2-ea2a-51fc59344f9b"
      },
      "execution_count": null,
      "outputs": [
        {
          "output_type": "execute_result",
          "data": {
            "text/plain": [
              "4"
            ]
          },
          "metadata": {},
          "execution_count": 95
        }
      ]
    },
    {
      "cell_type": "code",
      "source": [
        "events_with_0_1s = 0\n",
        "events_with_1_1s = 0\n",
        "events_with_2_1s = 0\n",
        "events_with_3_1s = 0\n",
        "events_with_4_1s = 0\n",
        "events_with_5_1s = 0\n",
        "\n",
        "for outcome in all_outcomes:\n",
        "  n_ones = list(outcome).count(1)\n",
        "  if n_ones == 0:\n",
        "    events_with_0_1s += 1\n",
        "  elif n_ones == 1:\n",
        "    events_with_1_1s += 1\n",
        "  elif n_ones == 2:\n",
        "    events_with_2_1s += 1\n",
        "  elif n_ones == 3:\n",
        "    events_with_3_1s += 1\n",
        "  elif n_ones == 4:\n",
        "    events_with_4_1s += 1\n",
        "  elif n_ones == 5:\n",
        "    events_with_5_1s += 1\n",
        "\n",
        "events_with_0_1s, events_with_1_1s, events_with_2_1s, events_with_3_1s, events_with_4_1s, events_with_5_1s"
      ],
      "metadata": {
        "colab": {
          "base_uri": "https://localhost:8080/"
        },
        "id": "CzxtWUPj1-Ty",
        "outputId": "3824b3b2-deab-49b2-fea8-2586fe6e802d"
      },
      "execution_count": null,
      "outputs": [
        {
          "output_type": "execute_result",
          "data": {
            "text/plain": [
              "(3125, 3125, 1250, 250, 25, 1)"
            ]
          },
          "metadata": {},
          "execution_count": 96
        }
      ]
    },
    {
      "cell_type": "code",
      "source": [
        "events_with_n_1s = [events_with_0_1s, events_with_1_1s, events_with_2_1s, events_with_3_1s, events_with_4_1s, events_with_5_1s]\n",
        "events_with_n_1s"
      ],
      "metadata": {
        "colab": {
          "base_uri": "https://localhost:8080/"
        },
        "id": "mGtQ7kBz3UkP",
        "outputId": "e9f02567-9053-4e42-83e1-026dfac266cf"
      },
      "execution_count": null,
      "outputs": [
        {
          "output_type": "execute_result",
          "data": {
            "text/plain": [
              "[3125, 3125, 1250, 250, 25, 1]"
            ]
          },
          "metadata": {},
          "execution_count": 97
        }
      ]
    },
    {
      "cell_type": "code",
      "source": [
        "prob_single_event = np.power(1/6, 5)\n",
        "prob_events_with_n_1s = [prob_single_event * events for events in events_with_n_1s]\n",
        "\n",
        "prob_events_with_n_1s"
      ],
      "metadata": {
        "colab": {
          "base_uri": "https://localhost:8080/"
        },
        "id": "6sYkv8hKwJDv",
        "outputId": "64d2ebf3-7239-4e99-dcf2-c5f8aba76127"
      },
      "execution_count": null,
      "outputs": [
        {
          "output_type": "execute_result",
          "data": {
            "text/plain": [
              "[0.4018775720164608,\n",
              " 0.4018775720164608,\n",
              " 0.16075102880658432,\n",
              " 0.032150205761316865,\n",
              " 0.003215020576131686,\n",
              " 0.00012860082304526745]"
            ]
          },
          "metadata": {},
          "execution_count": 98
        }
      ]
    },
    {
      "cell_type": "code",
      "source": [
        "p_values = [get_p_value(val, prob_events_with_n_1s) for val in prob_events_with_n_1s]"
      ],
      "metadata": {
        "id": "EAb0PIyF0TGK"
      },
      "execution_count": null,
      "outputs": []
    },
    {
      "cell_type": "code",
      "source": [
        "for i, p_value in enumerate(p_values):\n",
        "  print(f\"{i} 1s {5-i} Non-1s\\tEvent Prob:{prob_events_with_n_1s[i]:.4f}\\tp-value:{p_value:.4f}\")"
      ],
      "metadata": {
        "colab": {
          "base_uri": "https://localhost:8080/"
        },
        "id": "HsKk96Qg4cBn",
        "outputId": "4d52134b-439d-446e-c084-7f7ad65e91fe"
      },
      "execution_count": null,
      "outputs": [
        {
          "output_type": "stream",
          "name": "stdout",
          "text": [
            "0 1s 5 Non-1s\tEvent Prob:0.4019\tp-value:1.0000\n",
            "1 1s 4 Non-1s\tEvent Prob:0.4019\tp-value:1.0000\n",
            "2 1s 3 Non-1s\tEvent Prob:0.1608\tp-value:0.1962\n",
            "3 1s 2 Non-1s\tEvent Prob:0.0322\tp-value:0.0355\n",
            "4 1s 1 Non-1s\tEvent Prob:0.0032\tp-value:0.0033\n",
            "5 1s 0 Non-1s\tEvent Prob:0.0001\tp-value:0.0001\n"
          ]
        }
      ]
    },
    {
      "cell_type": "code",
      "source": [
        ""
      ],
      "metadata": {
        "id": "i_wP2TN65UOs"
      },
      "execution_count": null,
      "outputs": []
    }
  ],
  "metadata": {
    "colab": {
      "collapsed_sections": [],
      "name": "00-statistics_fundamentals.ipynb",
      "provenance": [],
      "authorship_tag": "ABX9TyOevmzmRJRndrlJLzWXgpCM",
      "include_colab_link": true
    },
    "kernelspec": {
      "display_name": "Python 3",
      "name": "python3"
    },
    "language_info": {
      "name": "python"
    }
  },
  "nbformat": 4,
  "nbformat_minor": 0
}