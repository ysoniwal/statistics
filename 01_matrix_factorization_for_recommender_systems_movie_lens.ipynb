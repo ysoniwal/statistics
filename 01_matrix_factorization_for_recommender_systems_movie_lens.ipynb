{
  "cells": [
    {
      "cell_type": "markdown",
      "metadata": {
        "id": "view-in-github",
        "colab_type": "text"
      },
      "source": [
        "<a href=\"https://colab.research.google.com/github/ysoniwal/statistics/blob/main/01_matrix_factorization_for_recommender_systems_movie_lens.ipynb\" target=\"_parent\"><img src=\"https://colab.research.google.com/assets/colab-badge.svg\" alt=\"Open In Colab\"/></a>"
      ]
    },
    {
      "cell_type": "markdown",
      "metadata": {
        "id": "L0bkT24g6O4V"
      },
      "source": [
        "## Read and preprocess the data"
      ]
    },
    {
      "cell_type": "code",
      "execution_count": 1,
      "metadata": {
        "colab": {
          "base_uri": "https://localhost:8080/"
        },
        "id": "GY4sffcfhJQA",
        "outputId": "a4054228-0b95-4c57-ff5e-df368e053a6f"
      },
      "outputs": [
        {
          "output_type": "stream",
          "name": "stdout",
          "text": [
            "Sat Aug 20 15:59:52 2022       \n",
            "+-----------------------------------------------------------------------------+\n",
            "| NVIDIA-SMI 460.32.03    Driver Version: 460.32.03    CUDA Version: 11.2     |\n",
            "|-------------------------------+----------------------+----------------------+\n",
            "| GPU  Name        Persistence-M| Bus-Id        Disp.A | Volatile Uncorr. ECC |\n",
            "| Fan  Temp  Perf  Pwr:Usage/Cap|         Memory-Usage | GPU-Util  Compute M. |\n",
            "|                               |                      |               MIG M. |\n",
            "|===============================+======================+======================|\n",
            "|   0  Tesla T4            Off  | 00000000:00:04.0 Off |                    0 |\n",
            "| N/A   43C    P8     9W /  70W |      0MiB / 15109MiB |      0%      Default |\n",
            "|                               |                      |                  N/A |\n",
            "+-------------------------------+----------------------+----------------------+\n",
            "                                                                               \n",
            "+-----------------------------------------------------------------------------+\n",
            "| Processes:                                                                  |\n",
            "|  GPU   GI   CI        PID   Type   Process name                  GPU Memory |\n",
            "|        ID   ID                                                   Usage      |\n",
            "|=============================================================================|\n",
            "|  No running processes found                                                 |\n",
            "+-----------------------------------------------------------------------------+\n"
          ]
        }
      ],
      "source": [
        "!nvidia-smi "
      ]
    },
    {
      "cell_type": "code",
      "execution_count": 2,
      "metadata": {
        "id": "mP19XTkg6ff5"
      },
      "outputs": [],
      "source": [
        "import pandas as pd"
      ]
    },
    {
      "cell_type": "code",
      "execution_count": 3,
      "metadata": {
        "colab": {
          "base_uri": "https://localhost:8080/"
        },
        "id": "FBMI_AfN-qsZ",
        "outputId": "43acc764-6a7f-4952-df1a-cdd51823432d"
      },
      "outputs": [
        {
          "output_type": "stream",
          "name": "stdout",
          "text": [
            "Mounted at /content/drive\n"
          ]
        }
      ],
      "source": [
        "from google.colab import drive\n",
        "drive.mount('/content/drive')"
      ]
    },
    {
      "cell_type": "code",
      "execution_count": 4,
      "metadata": {
        "colab": {
          "base_uri": "https://localhost:8080/"
        },
        "id": "eBfGUz6c-AUC",
        "outputId": "58d483a9-c5d7-4554-8f86-868ea794a9db"
      },
      "outputs": [
        {
          "output_type": "stream",
          "name": "stdout",
          "text": [
            "Archive:  /content/drive/MyDrive/Colab Notebooks/datasets/rating.csv.zip\n",
            "  inflating: rating.csv              \n",
            "   creating: __MACOSX/\n",
            "  inflating: __MACOSX/._rating.csv   \n"
          ]
        }
      ],
      "source": [
        "!unzip '/content/drive/MyDrive/Colab Notebooks/datasets/rating.csv.zip'"
      ]
    },
    {
      "cell_type": "code",
      "execution_count": 5,
      "metadata": {
        "colab": {
          "base_uri": "https://localhost:8080/"
        },
        "id": "cSxOn0zG_P4x",
        "outputId": "c4674565-3228-4c57-ff4d-19147f5754ec"
      },
      "outputs": [
        {
          "output_type": "stream",
          "name": "stdout",
          "text": [
            "Archive:  /content/drive/MyDrive/Colab Notebooks/datasets/movie.csv.zip\n",
            "  inflating: movie.csv               \n",
            "  inflating: __MACOSX/._movie.csv    \n"
          ]
        }
      ],
      "source": [
        "!unzip '/content/drive/MyDrive/Colab Notebooks/datasets/movie.csv.zip'"
      ]
    },
    {
      "cell_type": "code",
      "execution_count": 6,
      "metadata": {
        "id": "FrzcqYRN_mfs"
      },
      "outputs": [],
      "source": [
        "ratings_df = pd.read_csv('rating.csv')"
      ]
    },
    {
      "cell_type": "code",
      "execution_count": 7,
      "metadata": {
        "colab": {
          "base_uri": "https://localhost:8080/",
          "height": 206
        },
        "id": "_DZMGNco_sef",
        "outputId": "6a56b8a8-e520-4c04-e79c-2a7d3128db83"
      },
      "outputs": [
        {
          "output_type": "execute_result",
          "data": {
            "text/plain": [
              "   userId  movieId  rating            timestamp\n",
              "0       1        2     3.5  2005-04-02 23:53:47\n",
              "1       1       29     3.5  2005-04-02 23:31:16\n",
              "2       1       32     3.5  2005-04-02 23:33:39\n",
              "3       1       47     3.5  2005-04-02 23:32:07\n",
              "4       1       50     3.5  2005-04-02 23:29:40"
            ],
            "text/html": [
              "\n",
              "  <div id=\"df-900a3fba-e3fa-493b-8405-4e1166eae17f\">\n",
              "    <div class=\"colab-df-container\">\n",
              "      <div>\n",
              "<style scoped>\n",
              "    .dataframe tbody tr th:only-of-type {\n",
              "        vertical-align: middle;\n",
              "    }\n",
              "\n",
              "    .dataframe tbody tr th {\n",
              "        vertical-align: top;\n",
              "    }\n",
              "\n",
              "    .dataframe thead th {\n",
              "        text-align: right;\n",
              "    }\n",
              "</style>\n",
              "<table border=\"1\" class=\"dataframe\">\n",
              "  <thead>\n",
              "    <tr style=\"text-align: right;\">\n",
              "      <th></th>\n",
              "      <th>userId</th>\n",
              "      <th>movieId</th>\n",
              "      <th>rating</th>\n",
              "      <th>timestamp</th>\n",
              "    </tr>\n",
              "  </thead>\n",
              "  <tbody>\n",
              "    <tr>\n",
              "      <th>0</th>\n",
              "      <td>1</td>\n",
              "      <td>2</td>\n",
              "      <td>3.5</td>\n",
              "      <td>2005-04-02 23:53:47</td>\n",
              "    </tr>\n",
              "    <tr>\n",
              "      <th>1</th>\n",
              "      <td>1</td>\n",
              "      <td>29</td>\n",
              "      <td>3.5</td>\n",
              "      <td>2005-04-02 23:31:16</td>\n",
              "    </tr>\n",
              "    <tr>\n",
              "      <th>2</th>\n",
              "      <td>1</td>\n",
              "      <td>32</td>\n",
              "      <td>3.5</td>\n",
              "      <td>2005-04-02 23:33:39</td>\n",
              "    </tr>\n",
              "    <tr>\n",
              "      <th>3</th>\n",
              "      <td>1</td>\n",
              "      <td>47</td>\n",
              "      <td>3.5</td>\n",
              "      <td>2005-04-02 23:32:07</td>\n",
              "    </tr>\n",
              "    <tr>\n",
              "      <th>4</th>\n",
              "      <td>1</td>\n",
              "      <td>50</td>\n",
              "      <td>3.5</td>\n",
              "      <td>2005-04-02 23:29:40</td>\n",
              "    </tr>\n",
              "  </tbody>\n",
              "</table>\n",
              "</div>\n",
              "      <button class=\"colab-df-convert\" onclick=\"convertToInteractive('df-900a3fba-e3fa-493b-8405-4e1166eae17f')\"\n",
              "              title=\"Convert this dataframe to an interactive table.\"\n",
              "              style=\"display:none;\">\n",
              "        \n",
              "  <svg xmlns=\"http://www.w3.org/2000/svg\" height=\"24px\"viewBox=\"0 0 24 24\"\n",
              "       width=\"24px\">\n",
              "    <path d=\"M0 0h24v24H0V0z\" fill=\"none\"/>\n",
              "    <path d=\"M18.56 5.44l.94 2.06.94-2.06 2.06-.94-2.06-.94-.94-2.06-.94 2.06-2.06.94zm-11 1L8.5 8.5l.94-2.06 2.06-.94-2.06-.94L8.5 2.5l-.94 2.06-2.06.94zm10 10l.94 2.06.94-2.06 2.06-.94-2.06-.94-.94-2.06-.94 2.06-2.06.94z\"/><path d=\"M17.41 7.96l-1.37-1.37c-.4-.4-.92-.59-1.43-.59-.52 0-1.04.2-1.43.59L10.3 9.45l-7.72 7.72c-.78.78-.78 2.05 0 2.83L4 21.41c.39.39.9.59 1.41.59.51 0 1.02-.2 1.41-.59l7.78-7.78 2.81-2.81c.8-.78.8-2.07 0-2.86zM5.41 20L4 18.59l7.72-7.72 1.47 1.35L5.41 20z\"/>\n",
              "  </svg>\n",
              "      </button>\n",
              "      \n",
              "  <style>\n",
              "    .colab-df-container {\n",
              "      display:flex;\n",
              "      flex-wrap:wrap;\n",
              "      gap: 12px;\n",
              "    }\n",
              "\n",
              "    .colab-df-convert {\n",
              "      background-color: #E8F0FE;\n",
              "      border: none;\n",
              "      border-radius: 50%;\n",
              "      cursor: pointer;\n",
              "      display: none;\n",
              "      fill: #1967D2;\n",
              "      height: 32px;\n",
              "      padding: 0 0 0 0;\n",
              "      width: 32px;\n",
              "    }\n",
              "\n",
              "    .colab-df-convert:hover {\n",
              "      background-color: #E2EBFA;\n",
              "      box-shadow: 0px 1px 2px rgba(60, 64, 67, 0.3), 0px 1px 3px 1px rgba(60, 64, 67, 0.15);\n",
              "      fill: #174EA6;\n",
              "    }\n",
              "\n",
              "    [theme=dark] .colab-df-convert {\n",
              "      background-color: #3B4455;\n",
              "      fill: #D2E3FC;\n",
              "    }\n",
              "\n",
              "    [theme=dark] .colab-df-convert:hover {\n",
              "      background-color: #434B5C;\n",
              "      box-shadow: 0px 1px 3px 1px rgba(0, 0, 0, 0.15);\n",
              "      filter: drop-shadow(0px 1px 2px rgba(0, 0, 0, 0.3));\n",
              "      fill: #FFFFFF;\n",
              "    }\n",
              "  </style>\n",
              "\n",
              "      <script>\n",
              "        const buttonEl =\n",
              "          document.querySelector('#df-900a3fba-e3fa-493b-8405-4e1166eae17f button.colab-df-convert');\n",
              "        buttonEl.style.display =\n",
              "          google.colab.kernel.accessAllowed ? 'block' : 'none';\n",
              "\n",
              "        async function convertToInteractive(key) {\n",
              "          const element = document.querySelector('#df-900a3fba-e3fa-493b-8405-4e1166eae17f');\n",
              "          const dataTable =\n",
              "            await google.colab.kernel.invokeFunction('convertToInteractive',\n",
              "                                                     [key], {});\n",
              "          if (!dataTable) return;\n",
              "\n",
              "          const docLinkHtml = 'Like what you see? Visit the ' +\n",
              "            '<a target=\"_blank\" href=https://colab.research.google.com/notebooks/data_table.ipynb>data table notebook</a>'\n",
              "            + ' to learn more about interactive tables.';\n",
              "          element.innerHTML = '';\n",
              "          dataTable['output_type'] = 'display_data';\n",
              "          await google.colab.output.renderOutput(dataTable, element);\n",
              "          const docLink = document.createElement('div');\n",
              "          docLink.innerHTML = docLinkHtml;\n",
              "          element.appendChild(docLink);\n",
              "        }\n",
              "      </script>\n",
              "    </div>\n",
              "  </div>\n",
              "  "
            ]
          },
          "metadata": {},
          "execution_count": 7
        }
      ],
      "source": [
        "ratings_df.head()"
      ]
    },
    {
      "cell_type": "code",
      "execution_count": 8,
      "metadata": {
        "colab": {
          "base_uri": "https://localhost:8080/"
        },
        "id": "lFbab0Wf_2LH",
        "outputId": "471211b5-ba47-475f-9a14-58636aebd5c1"
      },
      "outputs": [
        {
          "output_type": "execute_result",
          "data": {
            "text/plain": [
              "(138493, 20000263)"
            ]
          },
          "metadata": {},
          "execution_count": 8
        }
      ],
      "source": [
        "ratings_df['userId'].nunique(), len(ratings_df)"
      ]
    },
    {
      "cell_type": "code",
      "execution_count": 9,
      "metadata": {
        "colab": {
          "base_uri": "https://localhost:8080/"
        },
        "id": "_Y_Y9hkRAJiw",
        "outputId": "e6cca7f2-cac8-4a24-c867-aec490e83262"
      },
      "outputs": [
        {
          "output_type": "execute_result",
          "data": {
            "text/plain": [
              "(1, 138493)"
            ]
          },
          "metadata": {},
          "execution_count": 9
        }
      ],
      "source": [
        "ratings_df['userId'].min(), ratings_df['userId'].max()"
      ]
    },
    {
      "cell_type": "code",
      "execution_count": 10,
      "metadata": {
        "colab": {
          "base_uri": "https://localhost:8080/"
        },
        "id": "KyzsecnHAVQi",
        "outputId": "c523fcd9-5272-40e0-da07-0c9e33c79391"
      },
      "outputs": [
        {
          "output_type": "execute_result",
          "data": {
            "text/plain": [
              "(1, 131262, 26744)"
            ]
          },
          "metadata": {},
          "execution_count": 10
        }
      ],
      "source": [
        "ratings_df['movieId'].min(), ratings_df['movieId'].max(), ratings_df['movieId'].nunique(),"
      ]
    },
    {
      "cell_type": "markdown",
      "metadata": {
        "id": "2yU-hfL6D2Hn"
      },
      "source": [
        "### Preprocess the ratings CSV file \n",
        "1. Starts user ids to go from 0\n",
        "2. Movie ids range from 1 to 131k, but there are only 26k unique movie ids -> So create a mapping from \n",
        "    movie id to num and add movie_idx column to the dataframe\n",
        "3. Delete timestamp column"
      ]
    },
    {
      "cell_type": "code",
      "execution_count": 11,
      "metadata": {
        "id": "dULEYjkWD4tK"
      },
      "outputs": [],
      "source": [
        "ratings_df.userId = ratings_df.userId - 1"
      ]
    },
    {
      "cell_type": "code",
      "execution_count": 12,
      "metadata": {
        "id": "FL0wZCSQD_Cq"
      },
      "outputs": [],
      "source": [
        "unique_movie_ids = set(ratings_df.movieId.values)\n",
        "movie2Idx = {}\n",
        "count = 0\n",
        "for movie_id in unique_movie_ids:\n",
        "  movie2Idx[movie_id] = count\n",
        "  count += 1"
      ]
    },
    {
      "cell_type": "code",
      "execution_count": 13,
      "metadata": {
        "id": "0jaocKVWEbT-"
      },
      "outputs": [],
      "source": [
        "ratings_df['movie_idx'] = ratings_df.apply(lambda row: movie2Idx[row.movieId], axis=1)"
      ]
    },
    {
      "cell_type": "markdown",
      "metadata": {
        "id": "OP7H1_O6FJIl"
      },
      "source": [
        "### Create a subset of users and movies to work with"
      ]
    },
    {
      "cell_type": "code",
      "execution_count": 14,
      "metadata": {
        "colab": {
          "base_uri": "https://localhost:8080/"
        },
        "id": "D0F6Esb3F2S5",
        "outputId": "b987a65b-4087-4774-9b62-e0228565efa5"
      },
      "outputs": [
        {
          "output_type": "execute_result",
          "data": {
            "text/plain": [
              "(138493, 26744)"
            ]
          },
          "metadata": {},
          "execution_count": 14
        }
      ],
      "source": [
        "N = ratings_df.userId.max() + 1 # number of users\n",
        "M = ratings_df.movie_idx.max() + 1 # number of movies\n",
        "\n",
        "N, M"
      ]
    },
    {
      "cell_type": "code",
      "execution_count": 15,
      "metadata": {
        "id": "IN-Ytx0KF6ul"
      },
      "outputs": [],
      "source": [
        "from collections import Counter\n",
        "\n",
        "user_ids_count = Counter(ratings_df.userId)\n",
        "movie_ids_count = Counter(ratings_df.movie_idx)"
      ]
    },
    {
      "cell_type": "code",
      "execution_count": 16,
      "metadata": {
        "id": "C67e-1myGLon"
      },
      "outputs": [],
      "source": [
        "# number of users and movies we would like to keep\n",
        "n = 10000\n",
        "m = 2000"
      ]
    },
    {
      "cell_type": "code",
      "execution_count": 17,
      "metadata": {
        "id": "HekOZV5XGPfq"
      },
      "outputs": [],
      "source": [
        "# Find most common users and movies\n",
        "user_ids = [u for u, c in user_ids_count.most_common(n)]\n",
        "movie_ids = [m for m, c in movie_ids_count.most_common(m)]"
      ]
    },
    {
      "cell_type": "code",
      "execution_count": 18,
      "metadata": {
        "id": "uP4ntcwDGUrL"
      },
      "outputs": [],
      "source": [
        "# make a copy, otherwise ids won't be overwritten\n",
        "df_small = ratings_df[ratings_df.userId.isin(user_ids) & ratings_df.movie_idx.isin(movie_ids)].copy()"
      ]
    },
    {
      "cell_type": "code",
      "execution_count": 19,
      "metadata": {
        "colab": {
          "base_uri": "https://localhost:8080/"
        },
        "id": "IW3iI-j0Ge4K",
        "outputId": "161a5fd1-9484-4965-eafc-9452bf7415bd"
      },
      "outputs": [
        {
          "output_type": "stream",
          "name": "stdout",
          "text": [
            "i: 10000\n",
            "j: 2000\n"
          ]
        }
      ],
      "source": [
        "# need to remake user ids and movie ids since they are no longer sequential\n",
        "new_user_id_map = {}\n",
        "i = 0\n",
        "for old in user_ids:\n",
        "  new_user_id_map[old] = i\n",
        "  i += 1\n",
        "print(\"i:\", i)\n",
        "\n",
        "new_movie_id_map = {}\n",
        "j = 0\n",
        "for old in movie_ids:\n",
        "  new_movie_id_map[old] = j\n",
        "  j += 1\n",
        "print(\"j:\", j)"
      ]
    },
    {
      "cell_type": "code",
      "execution_count": 20,
      "metadata": {
        "colab": {
          "base_uri": "https://localhost:8080/"
        },
        "id": "WCqefFNtGtf1",
        "outputId": "013d36ce-08a8-4268-c1de-0bc90acefd78"
      },
      "outputs": [
        {
          "output_type": "stream",
          "name": "stdout",
          "text": [
            "Setting new ids\n",
            "max user id: 9999\n",
            "max movie id: 1999\n",
            "small dataframe size: 5392025\n"
          ]
        }
      ],
      "source": [
        "print(\"Setting new ids\")\n",
        "df_small.loc[:, 'userId'] = df_small.apply(lambda row: new_user_id_map[row.userId], axis=1)\n",
        "df_small.loc[:, 'movie_idx'] = df_small.apply(lambda row: new_movie_id_map[row.movie_idx], axis=1)\n",
        "# df_small.drop(columns=['userId', 'movie_idx'])\n",
        "# df_small.rename(index=str, columns={'new_userId': 'userId', 'new_movie_idx': 'movie_idx'})\n",
        "print(\"max user id:\", df_small.userId.max())\n",
        "print(\"max movie id:\", df_small.movie_idx.max())\n",
        "\n",
        "print(\"small dataframe size:\", len(df_small))\n",
        "df_small.to_csv('/content/drive/MyDrive/Colab Notebooks/datasets/small_rating.csv', index=False)"
      ]
    },
    {
      "cell_type": "markdown",
      "metadata": {
        "id": "-zoaAxxyc2Us"
      },
      "source": [
        "### Create Very Small DF\n"
      ]
    },
    {
      "cell_type": "code",
      "execution_count": 21,
      "metadata": {
        "colab": {
          "base_uri": "https://localhost:8080/"
        },
        "id": "mLxMtcNuc7mP",
        "outputId": "8ff0db9f-2a9e-44a6-8f42-e731f3ac0e34"
      },
      "outputs": [
        {
          "output_type": "stream",
          "name": "stdout",
          "text": [
            "i: 1000\n",
            "j: 200\n",
            "Setting new ids\n",
            "max user id: 999\n",
            "max movie id: 199\n",
            "very small dataframe size: 167035\n"
          ]
        }
      ],
      "source": [
        "# number of users and movies we would like to keep\n",
        "n = 1000\n",
        "m = 200\n",
        "\n",
        "# Find most common users and movies\n",
        "user_ids = [u for u, c in user_ids_count.most_common(n)]\n",
        "movie_ids = [m for m, c in movie_ids_count.most_common(m)]\n",
        "\n",
        "# make a copy, otherwise ids won't be overwritten\n",
        "df_very_small = ratings_df[ratings_df.userId.isin(user_ids) & ratings_df.movie_idx.isin(movie_ids)].copy()\n",
        "\n",
        "# need to remake user ids and movie ids since they are no longer sequential\n",
        "new_user_id_map = {}\n",
        "i = 0\n",
        "for old in user_ids:\n",
        "  new_user_id_map[old] = i\n",
        "  i += 1\n",
        "print(\"i:\", i)\n",
        "\n",
        "new_movie_id_map = {}\n",
        "j = 0\n",
        "for old in movie_ids:\n",
        "  new_movie_id_map[old] = j\n",
        "  j += 1\n",
        "print(\"j:\", j)\n",
        "\n",
        "print(\"Setting new ids\")\n",
        "df_very_small.loc[:, 'userId'] = df_very_small.apply(lambda row: new_user_id_map[row.userId], axis=1)\n",
        "df_very_small.loc[:, 'movie_idx'] = df_very_small.apply(lambda row: new_movie_id_map[row.movie_idx], axis=1)\n",
        "# df_small.drop(columns=['userId', 'movie_idx'])\n",
        "# df_small.rename(index=str, columns={'new_userId': 'userId', 'new_movie_idx': 'movie_idx'})\n",
        "print(\"max user id:\", df_very_small.userId.max())\n",
        "print(\"max movie id:\", df_very_small.movie_idx.max())\n",
        "\n",
        "print(\"very small dataframe size:\", len(df_very_small))\n",
        "df_small.to_csv('/content/drive/MyDrive/Colab Notebooks/datasets/very_small_rating.csv', index=False)"
      ]
    },
    {
      "cell_type": "code",
      "execution_count": 21,
      "metadata": {
        "id": "j-4jqHfRdED9"
      },
      "outputs": [],
      "source": [
        ""
      ]
    },
    {
      "cell_type": "code",
      "execution_count": 21,
      "metadata": {
        "id": "daflF6iwc-PN"
      },
      "outputs": [],
      "source": [
        ""
      ]
    },
    {
      "cell_type": "code",
      "execution_count": 22,
      "metadata": {
        "id": "-DKVpnDjJmmW"
      },
      "outputs": [],
      "source": [
        "del ratings_df\n",
        "del df_small\n",
        "del df_very_small"
      ]
    },
    {
      "cell_type": "code",
      "execution_count": 23,
      "metadata": {
        "id": "ZQjFOMXtIzaW"
      },
      "outputs": [],
      "source": [
        "# load in the data\n",
        "# https://www.kaggle.com/grouplens/movielens-20m-dataset\n",
        "\n",
        "from sklearn.utils import shuffle\n",
        "\n",
        "df = pd.read_csv('/content/drive/MyDrive/Colab Notebooks/datasets/very_small_rating.csv')\n",
        "\n",
        "N = df.userId.max() + 1 # number of users\n",
        "M = df.movie_idx.max() + 1 # number of movies\n",
        "\n",
        "# split into train and test\n",
        "df = shuffle(df)\n",
        "cutoff = int(0.8*len(df))\n",
        "df_train = df.iloc[:cutoff]\n",
        "df_test = df.iloc[cutoff:]"
      ]
    },
    {
      "cell_type": "code",
      "execution_count": 24,
      "metadata": {
        "colab": {
          "base_uri": "https://localhost:8080/"
        },
        "id": "9p8eBf-yJu9A",
        "outputId": "083a88f7-f62a-40f6-afa6-0508b8c52cc0"
      },
      "outputs": [
        {
          "output_type": "stream",
          "name": "stdout",
          "text": [
            "Calling: update_user2movie_and_movie2user\n",
            "processed: 0.023\n",
            "processed: 0.046\n",
            "processed: 0.070\n",
            "processed: 0.093\n",
            "processed: 0.116\n",
            "processed: 0.139\n",
            "processed: 0.162\n",
            "processed: 0.185\n",
            "processed: 0.209\n",
            "processed: 0.232\n",
            "processed: 0.255\n",
            "processed: 0.278\n",
            "processed: 0.301\n",
            "processed: 0.325\n",
            "processed: 0.348\n",
            "processed: 0.371\n",
            "processed: 0.394\n",
            "processed: 0.417\n",
            "processed: 0.440\n",
            "processed: 0.464\n",
            "processed: 0.487\n",
            "processed: 0.510\n",
            "processed: 0.533\n",
            "processed: 0.556\n",
            "processed: 0.580\n",
            "processed: 0.603\n",
            "processed: 0.626\n",
            "processed: 0.649\n",
            "processed: 0.672\n",
            "processed: 0.695\n",
            "processed: 0.719\n",
            "processed: 0.742\n",
            "processed: 0.765\n",
            "processed: 0.788\n",
            "processed: 0.811\n",
            "processed: 0.835\n",
            "processed: 0.858\n",
            "processed: 0.881\n",
            "processed: 0.904\n",
            "processed: 0.927\n",
            "processed: 0.950\n",
            "processed: 0.974\n",
            "processed: 0.997\n"
          ]
        },
        {
          "output_type": "execute_result",
          "data": {
            "text/plain": [
              "3058148    None\n",
              "1153568    None\n",
              "4455943    None\n",
              "5123900    None\n",
              "737173     None\n",
              "           ... \n",
              "4843959    None\n",
              "5265922    None\n",
              "2235265    None\n",
              "1663938    None\n",
              "120076     None\n",
              "Length: 4313620, dtype: object"
            ]
          },
          "metadata": {},
          "execution_count": 24
        }
      ],
      "source": [
        "# a dictionary to tell us which users have rated which movies\n",
        "user2movie = {}\n",
        "# a dicationary to tell us which movies have been rated by which users\n",
        "movie2user = {}\n",
        "# a dictionary to look up ratings\n",
        "usermovie2rating = {}\n",
        "print(\"Calling: update_user2movie_and_movie2user\")\n",
        "count = 0\n",
        "def update_user2movie_and_movie2user(row):\n",
        "  global count\n",
        "  count += 1\n",
        "  if count % 100000 == 0:\n",
        "    print(\"processed: %.3f\" % (float(count)/cutoff))\n",
        "\n",
        "  i = int(row.userId)\n",
        "  j = int(row.movie_idx)\n",
        "  if i not in user2movie:\n",
        "    user2movie[i] = [j]\n",
        "  else:\n",
        "    user2movie[i].append(j)\n",
        "\n",
        "  if j not in movie2user:\n",
        "    movie2user[j] = [i]\n",
        "  else:\n",
        "    movie2user[j].append(i)\n",
        "\n",
        "  usermovie2rating[(i,j)] = row.rating\n",
        "  \n",
        "df_train.apply(update_user2movie_and_movie2user, axis=1)"
      ]
    },
    {
      "cell_type": "code",
      "execution_count": 25,
      "metadata": {
        "colab": {
          "base_uri": "https://localhost:8080/"
        },
        "id": "_yizh3VcJ8bh",
        "outputId": "f13ff061-85bf-49ed-c208-fa482ee3a3fb"
      },
      "outputs": [
        {
          "output_type": "stream",
          "name": "stdout",
          "text": [
            "Calling: update_usermovie2rating_test\n",
            "processed: 0.093\n",
            "processed: 0.185\n",
            "processed: 0.278\n",
            "processed: 0.371\n",
            "processed: 0.464\n",
            "processed: 0.556\n",
            "processed: 0.649\n",
            "processed: 0.742\n",
            "processed: 0.835\n",
            "processed: 0.927\n"
          ]
        },
        {
          "output_type": "execute_result",
          "data": {
            "text/plain": [
              "115361     None\n",
              "1231734    None\n",
              "3525280    None\n",
              "3272988    None\n",
              "2551175    None\n",
              "           ... \n",
              "2967441    None\n",
              "1566847    None\n",
              "3992560    None\n",
              "652134     None\n",
              "2934334    None\n",
              "Length: 1078405, dtype: object"
            ]
          },
          "metadata": {},
          "execution_count": 25
        }
      ],
      "source": [
        "# test ratings dictionary\n",
        "usermovie2rating_test = {}\n",
        "print(\"Calling: update_usermovie2rating_test\")\n",
        "count = 0\n",
        "def update_usermovie2rating_test(row):\n",
        "  global count\n",
        "  count += 1\n",
        "  if count % 100000 == 0:\n",
        "    print(\"processed: %.3f\" % (float(count)/len(df_test)))\n",
        "\n",
        "  i = int(row.userId)\n",
        "  j = int(row.movie_idx)\n",
        "  usermovie2rating_test[(i,j)] = row.rating\n",
        "df_test.apply(update_usermovie2rating_test, axis=1)"
      ]
    },
    {
      "cell_type": "code",
      "execution_count": 26,
      "metadata": {
        "id": "DWlNKYE-KR3S"
      },
      "outputs": [],
      "source": [
        "# note: these are not really JSONs\n",
        "import pickle\n",
        "\n",
        "with open('user2movie.json', 'wb') as f:\n",
        "  pickle.dump(user2movie, f)\n",
        "\n",
        "with open('movie2user.json', 'wb') as f:\n",
        "  pickle.dump(movie2user, f)\n",
        "\n",
        "with open('usermovie2rating.json', 'wb') as f:\n",
        "  pickle.dump(usermovie2rating, f)\n",
        "\n",
        "with open('usermovie2rating_test.json', 'wb') as f:\n",
        "  pickle.dump(usermovie2rating_test, f)"
      ]
    },
    {
      "cell_type": "markdown",
      "metadata": {
        "id": "VGZ4YLhPKbiQ"
      },
      "source": [
        "## Model1: Matrix Factorization in Tensorflow"
      ]
    },
    {
      "cell_type": "code",
      "execution_count": 35,
      "metadata": {
        "colab": {
          "base_uri": "https://localhost:8080/",
          "height": 206
        },
        "id": "k-IKHoYTMxW9",
        "outputId": "91f56147-3d76-499d-cfb4-51b1caa84b83"
      },
      "outputs": [
        {
          "output_type": "execute_result",
          "data": {
            "text/plain": [
              "         userId  movieId  rating            timestamp  movie_idx\n",
              "3058148    1802     6934     2.5  2003-12-02 23:57:10        350\n",
              "1153568    2580      924     4.0  2005-03-04 01:41:02         90\n",
              "4455943    3530    68791     3.0  2009-06-23 19:27:16       1954\n",
              "5123900      44     2701     2.0  2006-01-12 17:30:25        408\n",
              "737173      984     4558     3.0  2007-03-09 03:21:03       1548"
            ],
            "text/html": [
              "\n",
              "  <div id=\"df-5b8e2986-fc40-4969-afc8-64ecd25805ec\">\n",
              "    <div class=\"colab-df-container\">\n",
              "      <div>\n",
              "<style scoped>\n",
              "    .dataframe tbody tr th:only-of-type {\n",
              "        vertical-align: middle;\n",
              "    }\n",
              "\n",
              "    .dataframe tbody tr th {\n",
              "        vertical-align: top;\n",
              "    }\n",
              "\n",
              "    .dataframe thead th {\n",
              "        text-align: right;\n",
              "    }\n",
              "</style>\n",
              "<table border=\"1\" class=\"dataframe\">\n",
              "  <thead>\n",
              "    <tr style=\"text-align: right;\">\n",
              "      <th></th>\n",
              "      <th>userId</th>\n",
              "      <th>movieId</th>\n",
              "      <th>rating</th>\n",
              "      <th>timestamp</th>\n",
              "      <th>movie_idx</th>\n",
              "    </tr>\n",
              "  </thead>\n",
              "  <tbody>\n",
              "    <tr>\n",
              "      <th>3058148</th>\n",
              "      <td>1802</td>\n",
              "      <td>6934</td>\n",
              "      <td>2.5</td>\n",
              "      <td>2003-12-02 23:57:10</td>\n",
              "      <td>350</td>\n",
              "    </tr>\n",
              "    <tr>\n",
              "      <th>1153568</th>\n",
              "      <td>2580</td>\n",
              "      <td>924</td>\n",
              "      <td>4.0</td>\n",
              "      <td>2005-03-04 01:41:02</td>\n",
              "      <td>90</td>\n",
              "    </tr>\n",
              "    <tr>\n",
              "      <th>4455943</th>\n",
              "      <td>3530</td>\n",
              "      <td>68791</td>\n",
              "      <td>3.0</td>\n",
              "      <td>2009-06-23 19:27:16</td>\n",
              "      <td>1954</td>\n",
              "    </tr>\n",
              "    <tr>\n",
              "      <th>5123900</th>\n",
              "      <td>44</td>\n",
              "      <td>2701</td>\n",
              "      <td>2.0</td>\n",
              "      <td>2006-01-12 17:30:25</td>\n",
              "      <td>408</td>\n",
              "    </tr>\n",
              "    <tr>\n",
              "      <th>737173</th>\n",
              "      <td>984</td>\n",
              "      <td>4558</td>\n",
              "      <td>3.0</td>\n",
              "      <td>2007-03-09 03:21:03</td>\n",
              "      <td>1548</td>\n",
              "    </tr>\n",
              "  </tbody>\n",
              "</table>\n",
              "</div>\n",
              "      <button class=\"colab-df-convert\" onclick=\"convertToInteractive('df-5b8e2986-fc40-4969-afc8-64ecd25805ec')\"\n",
              "              title=\"Convert this dataframe to an interactive table.\"\n",
              "              style=\"display:none;\">\n",
              "        \n",
              "  <svg xmlns=\"http://www.w3.org/2000/svg\" height=\"24px\"viewBox=\"0 0 24 24\"\n",
              "       width=\"24px\">\n",
              "    <path d=\"M0 0h24v24H0V0z\" fill=\"none\"/>\n",
              "    <path d=\"M18.56 5.44l.94 2.06.94-2.06 2.06-.94-2.06-.94-.94-2.06-.94 2.06-2.06.94zm-11 1L8.5 8.5l.94-2.06 2.06-.94-2.06-.94L8.5 2.5l-.94 2.06-2.06.94zm10 10l.94 2.06.94-2.06 2.06-.94-2.06-.94-.94-2.06-.94 2.06-2.06.94z\"/><path d=\"M17.41 7.96l-1.37-1.37c-.4-.4-.92-.59-1.43-.59-.52 0-1.04.2-1.43.59L10.3 9.45l-7.72 7.72c-.78.78-.78 2.05 0 2.83L4 21.41c.39.39.9.59 1.41.59.51 0 1.02-.2 1.41-.59l7.78-7.78 2.81-2.81c.8-.78.8-2.07 0-2.86zM5.41 20L4 18.59l7.72-7.72 1.47 1.35L5.41 20z\"/>\n",
              "  </svg>\n",
              "      </button>\n",
              "      \n",
              "  <style>\n",
              "    .colab-df-container {\n",
              "      display:flex;\n",
              "      flex-wrap:wrap;\n",
              "      gap: 12px;\n",
              "    }\n",
              "\n",
              "    .colab-df-convert {\n",
              "      background-color: #E8F0FE;\n",
              "      border: none;\n",
              "      border-radius: 50%;\n",
              "      cursor: pointer;\n",
              "      display: none;\n",
              "      fill: #1967D2;\n",
              "      height: 32px;\n",
              "      padding: 0 0 0 0;\n",
              "      width: 32px;\n",
              "    }\n",
              "\n",
              "    .colab-df-convert:hover {\n",
              "      background-color: #E2EBFA;\n",
              "      box-shadow: 0px 1px 2px rgba(60, 64, 67, 0.3), 0px 1px 3px 1px rgba(60, 64, 67, 0.15);\n",
              "      fill: #174EA6;\n",
              "    }\n",
              "\n",
              "    [theme=dark] .colab-df-convert {\n",
              "      background-color: #3B4455;\n",
              "      fill: #D2E3FC;\n",
              "    }\n",
              "\n",
              "    [theme=dark] .colab-df-convert:hover {\n",
              "      background-color: #434B5C;\n",
              "      box-shadow: 0px 1px 3px 1px rgba(0, 0, 0, 0.15);\n",
              "      filter: drop-shadow(0px 1px 2px rgba(0, 0, 0, 0.3));\n",
              "      fill: #FFFFFF;\n",
              "    }\n",
              "  </style>\n",
              "\n",
              "      <script>\n",
              "        const buttonEl =\n",
              "          document.querySelector('#df-5b8e2986-fc40-4969-afc8-64ecd25805ec button.colab-df-convert');\n",
              "        buttonEl.style.display =\n",
              "          google.colab.kernel.accessAllowed ? 'block' : 'none';\n",
              "\n",
              "        async function convertToInteractive(key) {\n",
              "          const element = document.querySelector('#df-5b8e2986-fc40-4969-afc8-64ecd25805ec');\n",
              "          const dataTable =\n",
              "            await google.colab.kernel.invokeFunction('convertToInteractive',\n",
              "                                                     [key], {});\n",
              "          if (!dataTable) return;\n",
              "\n",
              "          const docLinkHtml = 'Like what you see? Visit the ' +\n",
              "            '<a target=\"_blank\" href=https://colab.research.google.com/notebooks/data_table.ipynb>data table notebook</a>'\n",
              "            + ' to learn more about interactive tables.';\n",
              "          element.innerHTML = '';\n",
              "          dataTable['output_type'] = 'display_data';\n",
              "          await google.colab.output.renderOutput(dataTable, element);\n",
              "          const docLink = document.createElement('div');\n",
              "          docLink.innerHTML = docLinkHtml;\n",
              "          element.appendChild(docLink);\n",
              "        }\n",
              "      </script>\n",
              "    </div>\n",
              "  </div>\n",
              "  "
            ]
          },
          "metadata": {},
          "execution_count": 35
        }
      ],
      "source": [
        "df_train.head()"
      ]
    },
    {
      "cell_type": "code",
      "execution_count": 36,
      "metadata": {
        "colab": {
          "base_uri": "https://localhost:8080/",
          "height": 206
        },
        "id": "df1RK1BAMyVx",
        "outputId": "c0b09603-1258-4b9e-873a-227f26eb9866"
      },
      "outputs": [
        {
          "output_type": "execute_result",
          "data": {
            "text/plain": [
              "         userId  movieId  rating            timestamp  movie_idx\n",
              "115361     1976     1747     5.0  2005-10-25 00:16:44        426\n",
              "1231734    2573     3977     5.0  2001-07-30 19:10:20        220\n",
              "3525280    4005     2243     5.0  2000-03-07 10:30:16        847\n",
              "3272988     804    33493     3.5  2005-06-06 12:35:21        348\n",
              "2551175    8482     2529     4.0  2000-08-05 02:45:55        332"
            ],
            "text/html": [
              "\n",
              "  <div id=\"df-55ff1dd5-a471-4b08-a38d-c00a9c4c5b10\">\n",
              "    <div class=\"colab-df-container\">\n",
              "      <div>\n",
              "<style scoped>\n",
              "    .dataframe tbody tr th:only-of-type {\n",
              "        vertical-align: middle;\n",
              "    }\n",
              "\n",
              "    .dataframe tbody tr th {\n",
              "        vertical-align: top;\n",
              "    }\n",
              "\n",
              "    .dataframe thead th {\n",
              "        text-align: right;\n",
              "    }\n",
              "</style>\n",
              "<table border=\"1\" class=\"dataframe\">\n",
              "  <thead>\n",
              "    <tr style=\"text-align: right;\">\n",
              "      <th></th>\n",
              "      <th>userId</th>\n",
              "      <th>movieId</th>\n",
              "      <th>rating</th>\n",
              "      <th>timestamp</th>\n",
              "      <th>movie_idx</th>\n",
              "    </tr>\n",
              "  </thead>\n",
              "  <tbody>\n",
              "    <tr>\n",
              "      <th>115361</th>\n",
              "      <td>1976</td>\n",
              "      <td>1747</td>\n",
              "      <td>5.0</td>\n",
              "      <td>2005-10-25 00:16:44</td>\n",
              "      <td>426</td>\n",
              "    </tr>\n",
              "    <tr>\n",
              "      <th>1231734</th>\n",
              "      <td>2573</td>\n",
              "      <td>3977</td>\n",
              "      <td>5.0</td>\n",
              "      <td>2001-07-30 19:10:20</td>\n",
              "      <td>220</td>\n",
              "    </tr>\n",
              "    <tr>\n",
              "      <th>3525280</th>\n",
              "      <td>4005</td>\n",
              "      <td>2243</td>\n",
              "      <td>5.0</td>\n",
              "      <td>2000-03-07 10:30:16</td>\n",
              "      <td>847</td>\n",
              "    </tr>\n",
              "    <tr>\n",
              "      <th>3272988</th>\n",
              "      <td>804</td>\n",
              "      <td>33493</td>\n",
              "      <td>3.5</td>\n",
              "      <td>2005-06-06 12:35:21</td>\n",
              "      <td>348</td>\n",
              "    </tr>\n",
              "    <tr>\n",
              "      <th>2551175</th>\n",
              "      <td>8482</td>\n",
              "      <td>2529</td>\n",
              "      <td>4.0</td>\n",
              "      <td>2000-08-05 02:45:55</td>\n",
              "      <td>332</td>\n",
              "    </tr>\n",
              "  </tbody>\n",
              "</table>\n",
              "</div>\n",
              "      <button class=\"colab-df-convert\" onclick=\"convertToInteractive('df-55ff1dd5-a471-4b08-a38d-c00a9c4c5b10')\"\n",
              "              title=\"Convert this dataframe to an interactive table.\"\n",
              "              style=\"display:none;\">\n",
              "        \n",
              "  <svg xmlns=\"http://www.w3.org/2000/svg\" height=\"24px\"viewBox=\"0 0 24 24\"\n",
              "       width=\"24px\">\n",
              "    <path d=\"M0 0h24v24H0V0z\" fill=\"none\"/>\n",
              "    <path d=\"M18.56 5.44l.94 2.06.94-2.06 2.06-.94-2.06-.94-.94-2.06-.94 2.06-2.06.94zm-11 1L8.5 8.5l.94-2.06 2.06-.94-2.06-.94L8.5 2.5l-.94 2.06-2.06.94zm10 10l.94 2.06.94-2.06 2.06-.94-2.06-.94-.94-2.06-.94 2.06-2.06.94z\"/><path d=\"M17.41 7.96l-1.37-1.37c-.4-.4-.92-.59-1.43-.59-.52 0-1.04.2-1.43.59L10.3 9.45l-7.72 7.72c-.78.78-.78 2.05 0 2.83L4 21.41c.39.39.9.59 1.41.59.51 0 1.02-.2 1.41-.59l7.78-7.78 2.81-2.81c.8-.78.8-2.07 0-2.86zM5.41 20L4 18.59l7.72-7.72 1.47 1.35L5.41 20z\"/>\n",
              "  </svg>\n",
              "      </button>\n",
              "      \n",
              "  <style>\n",
              "    .colab-df-container {\n",
              "      display:flex;\n",
              "      flex-wrap:wrap;\n",
              "      gap: 12px;\n",
              "    }\n",
              "\n",
              "    .colab-df-convert {\n",
              "      background-color: #E8F0FE;\n",
              "      border: none;\n",
              "      border-radius: 50%;\n",
              "      cursor: pointer;\n",
              "      display: none;\n",
              "      fill: #1967D2;\n",
              "      height: 32px;\n",
              "      padding: 0 0 0 0;\n",
              "      width: 32px;\n",
              "    }\n",
              "\n",
              "    .colab-df-convert:hover {\n",
              "      background-color: #E2EBFA;\n",
              "      box-shadow: 0px 1px 2px rgba(60, 64, 67, 0.3), 0px 1px 3px 1px rgba(60, 64, 67, 0.15);\n",
              "      fill: #174EA6;\n",
              "    }\n",
              "\n",
              "    [theme=dark] .colab-df-convert {\n",
              "      background-color: #3B4455;\n",
              "      fill: #D2E3FC;\n",
              "    }\n",
              "\n",
              "    [theme=dark] .colab-df-convert:hover {\n",
              "      background-color: #434B5C;\n",
              "      box-shadow: 0px 1px 3px 1px rgba(0, 0, 0, 0.15);\n",
              "      filter: drop-shadow(0px 1px 2px rgba(0, 0, 0, 0.3));\n",
              "      fill: #FFFFFF;\n",
              "    }\n",
              "  </style>\n",
              "\n",
              "      <script>\n",
              "        const buttonEl =\n",
              "          document.querySelector('#df-55ff1dd5-a471-4b08-a38d-c00a9c4c5b10 button.colab-df-convert');\n",
              "        buttonEl.style.display =\n",
              "          google.colab.kernel.accessAllowed ? 'block' : 'none';\n",
              "\n",
              "        async function convertToInteractive(key) {\n",
              "          const element = document.querySelector('#df-55ff1dd5-a471-4b08-a38d-c00a9c4c5b10');\n",
              "          const dataTable =\n",
              "            await google.colab.kernel.invokeFunction('convertToInteractive',\n",
              "                                                     [key], {});\n",
              "          if (!dataTable) return;\n",
              "\n",
              "          const docLinkHtml = 'Like what you see? Visit the ' +\n",
              "            '<a target=\"_blank\" href=https://colab.research.google.com/notebooks/data_table.ipynb>data table notebook</a>'\n",
              "            + ' to learn more about interactive tables.';\n",
              "          element.innerHTML = '';\n",
              "          dataTable['output_type'] = 'display_data';\n",
              "          await google.colab.output.renderOutput(dataTable, element);\n",
              "          const docLink = document.createElement('div');\n",
              "          docLink.innerHTML = docLinkHtml;\n",
              "          element.appendChild(docLink);\n",
              "        }\n",
              "      </script>\n",
              "    </div>\n",
              "  </div>\n",
              "  "
            ]
          },
          "metadata": {},
          "execution_count": 36
        }
      ],
      "source": [
        "df_test.head()"
      ]
    },
    {
      "cell_type": "code",
      "execution_count": 37,
      "metadata": {
        "colab": {
          "base_uri": "https://localhost:8080/"
        },
        "id": "rrxmlA3QM1JT",
        "outputId": "f5042522-e4ed-4a78-c6dd-50339a0bd1e8"
      },
      "outputs": [
        {
          "output_type": "execute_result",
          "data": {
            "text/plain": [
              "((4313620, 5), (1078405, 5))"
            ]
          },
          "metadata": {},
          "execution_count": 37
        }
      ],
      "source": [
        "df_train.shape, df_test.shape"
      ]
    },
    {
      "cell_type": "code",
      "execution_count": 38,
      "metadata": {
        "id": "IbYE1kBXM4Lo"
      },
      "outputs": [],
      "source": [
        "## Global variables\n",
        "K = 10 # Latent dimension\n",
        "mu = df_train.rating.mean()\n",
        "EPOCHS = 5\n",
        "REG = 0 # Regularization\n",
        "\n",
        "N = 1000\n",
        "M = 200"
      ]
    },
    {
      "cell_type": "code",
      "execution_count": 39,
      "metadata": {
        "id": "4CHWOOyLOh1f"
      },
      "outputs": [],
      "source": [
        "import tensorflow as tf\n",
        "from tensorflow.keras.layers import Input, Embedding, Dot, Add, Flatten, Dense, Concatenate\n",
        "from tensorflow.keras.regularizers import L2"
      ]
    },
    {
      "cell_type": "code",
      "execution_count": 40,
      "metadata": {
        "colab": {
          "base_uri": "https://localhost:8080/"
        },
        "id": "ohyWR-lQjyP8",
        "outputId": "34938d70-e11c-467e-81ef-2f5e99de2ebe"
      },
      "outputs": [
        {
          "output_type": "execute_result",
          "data": {
            "text/plain": [
              "(1000, 200)"
            ]
          },
          "metadata": {},
          "execution_count": 40
        }
      ],
      "source": [
        "N, M"
      ]
    },
    {
      "cell_type": "code",
      "execution_count": 43,
      "metadata": {
        "colab": {
          "base_uri": "https://localhost:8080/"
        },
        "id": "kE_0Md63NSju",
        "outputId": "021940fd-f904-4593-deeb-39b1fa0d41d3"
      },
      "outputs": [
        {
          "output_type": "stream",
          "name": "stdout",
          "text": [
            "Model: \"matrix_factorization_model\"\n",
            "__________________________________________________________________________________________________\n",
            " Layer (type)                   Output Shape         Param #     Connected to                     \n",
            "==================================================================================================\n",
            " user_id_input (InputLayer)     [(None, 1)]          0           []                               \n",
            "                                                                                                  \n",
            " movie_id_input (InputLayer)    [(None, 1)]          0           []                               \n",
            "                                                                                                  \n",
            " user_id_embedding (Embedding)  (None, 1, 10)        10000       ['user_id_input[0][0]']          \n",
            "                                                                                                  \n",
            " movie_id_embedding (Embedding)  (None, 1, 10)       2000        ['movie_id_input[0][0]']         \n",
            "                                                                                                  \n",
            " dot_user_movie_embeddings (Dot  (None, 1, 1)        0           ['user_id_embedding[0][0]',      \n",
            " )                                                                'movie_id_embedding[0][0]']     \n",
            "                                                                                                  \n",
            " user_bias_embedding (Embedding  (None, 1, 1)        1000        ['user_id_input[0][0]']          \n",
            " )                                                                                                \n",
            "                                                                                                  \n",
            " movie_bias_embedding (Embeddin  (None, 1, 1)        200         ['movie_id_input[0][0]']         \n",
            " g)                                                                                               \n",
            "                                                                                                  \n",
            " add_dot__user_bias__movie_bias  (None, 1, 1)        0           ['dot_user_movie_embeddings[0][0]\n",
            "  (Add)                                                          ',                               \n",
            "                                                                  'user_bias_embedding[0][0]',    \n",
            "                                                                  'movie_bias_embedding[0][0]']   \n",
            "                                                                                                  \n",
            " flatten (Flatten)              (None, 1)            0           ['add_dot__user_bias__movie_bias[\n",
            "                                                                 0][0]']                          \n",
            "                                                                                                  \n",
            "==================================================================================================\n",
            "Total params: 13,200\n",
            "Trainable params: 13,200\n",
            "Non-trainable params: 0\n",
            "__________________________________________________________________________________________________\n"
          ]
        }
      ],
      "source": [
        "import tensorflow as tf\n",
        "\n",
        "u = tf.keras.Input(shape=(1,), name = \"user_id_input\")\n",
        "m = tf.keras.Input(shape=(1,), name = \"movie_id_input\")\n",
        "\n",
        "emb_u = Embedding(input_dim = N,\n",
        "                  output_dim = K,\n",
        "                  embeddings_regularizer = L2(l2 = REG),\n",
        "                  name = \"user_id_embedding\")(u)\n",
        "emb_m = Embedding(input_dim = M,\n",
        "                  output_dim = K,\n",
        "                  embeddings_regularizer = L2(l2 = REG),\n",
        "                  name = \"movie_id_embedding\")(m)\n",
        "\n",
        "user_bias = Embedding(input_dim = N,\n",
        "                      output_dim = 1,\n",
        "                      embeddings_regularizer = L2(l2 = REG),\n",
        "                      name = \"user_bias_embedding\")(u)\n",
        "\n",
        "movie_bias = Embedding(input_dim = M,\n",
        "                       output_dim = 1,\n",
        "                       embeddings_regularizer = L2(l2 = REG),\n",
        "                       name = \"movie_bias_embedding\")(m)\n",
        "\n",
        "x = Dot(axes = 2, name = \"dot_user_movie_embeddings\")([emb_u, emb_m])\n",
        "\n",
        "x = Add(name = \"add_dot__user_bias__movie_bias\")([x, user_bias, movie_bias])\n",
        "x = Flatten()(x)\n",
        "\n",
        "model_1 = tf.keras.Model(inputs = [u, m], outputs = x, name = \"matrix_factorization_model\")\n",
        "model_1.summary()"
      ]
    },
    {
      "cell_type": "code",
      "execution_count": 44,
      "metadata": {
        "colab": {
          "base_uri": "https://localhost:8080/",
          "height": 363
        },
        "id": "yaPeRyu2QllL",
        "outputId": "783fd1d7-55f2-4a9b-ff7f-78dd61777dfd"
      },
      "outputs": [
        {
          "output_type": "execute_result",
          "data": {
            "image/png": "[encoded data removed]",
            "text/plain": [
              "<IPython.core.display.Image object>"
            ]
          },
          "metadata": {},
          "execution_count": 44
        }
      ],
      "source": [
        "tf.keras.utils.plot_model(model_1, show_shapes=True)"
      ]
    },
    {
      "cell_type": "markdown",
      "metadata": {
        "id": "ltvcBMbOkyd_"
      },
      "source": [
        "```\n",
        "Input1 -> user_id -> An integer -> Embedding to K dim\n",
        "Input2 -> movie_id -> An integer -> Embedding to K dim\n",
        "user_bias -> Input user_id -> An integer -> Embedding to 1 dim\n",
        "movie_bias -> Input movie_id -> An integer -> Embedding to 1 dim\n",
        "\n",
        "dot(Embedding1, Embedding2) over last axis (i.e. axis with K length) + user_bias_embedding + movie_bias_embedding\n",
        "\n",
        "Then flatten this -> This is output\n",
        "```"
      ]
    },
    {
      "cell_type": "code",
      "execution_count": 45,
      "metadata": {
        "colab": {
          "base_uri": "https://localhost:8080/"
        },
        "id": "byC3ABTBQtl1",
        "outputId": "f90d3bbc-0feb-4948-b239-7152b644ebf4"
      },
      "outputs": [
        {
          "output_type": "stream",
          "name": "stdout",
          "text": [
            "Epoch 1/5\n",
            "33701/33701 [==============================] - 105s 3ms/step - loss: 0.9649 - mse: 0.9649 - val_loss: 0.9536 - val_mse: 0.9536\n",
            "Epoch 2/5\n",
            "33701/33701 [==============================] - 102s 3ms/step - loss: 0.9508 - mse: 0.9508 - val_loss: 0.9510 - val_mse: 0.9510\n",
            "Epoch 3/5\n",
            "33701/33701 [==============================] - 108s 3ms/step - loss: 0.9497 - mse: 0.9497 - val_loss: 0.9507 - val_mse: 0.9507\n",
            "Epoch 4/5\n",
            "33701/33701 [==============================] - 111s 3ms/step - loss: 0.9496 - mse: 0.9496 - val_loss: 0.9506 - val_mse: 0.9506\n",
            "Epoch 5/5\n",
            "33701/33701 [==============================] - 107s 3ms/step - loss: 0.9496 - mse: 0.9496 - val_loss: 0.9506 - val_mse: 0.9506\n"
          ]
        }
      ],
      "source": [
        "model_1.compile(\n",
        "    loss = 'mse',\n",
        "    optimizer = tf.keras.optimizers.SGD(learning_rate = 0.01, momentum = 0.9),\n",
        "    metrics = ['mse']\n",
        ")\n",
        "\n",
        "history_1 = model_1.fit(\n",
        "    x = [df_train.userId.values, df_train.movie_idx.values],\n",
        "    y = df_train.rating.values - mu,\n",
        "    epochs = EPOCHS,\n",
        "    batch_size = 128,\n",
        "    validation_data = (\n",
        "        [df_test.userId.values, df_test.movie_idx.values],\n",
        "        df_test.rating.values - mu\n",
        "    )\n",
        ")"
      ]
    },
    {
      "cell_type": "code",
      "execution_count": 46,
      "metadata": {
        "colab": {
          "base_uri": "https://localhost:8080/"
        },
        "id": "RMRV3L-xoAgq",
        "outputId": "a485c1a9-b1b3-4e0a-d1c8-ab427eeab2b3"
      },
      "outputs": [
        {
          "output_type": "stream",
          "name": "stdout",
          "text": [
            "33701/33701 [==============================] - 65s 2ms/step - loss: 0.9506 - mse: 0.9506\n"
          ]
        },
        {
          "output_type": "execute_result",
          "data": {
            "text/plain": [
              "[0.9505849480628967, 0.9505849480628967]"
            ]
          },
          "metadata": {},
          "execution_count": 46
        }
      ],
      "source": [
        "results_1 = model_1.evaluate([df_test.userId.values, df_test.movie_idx.values], df_test.rating.values - mu)\n",
        "results_1"
      ]
    },
    {
      "cell_type": "code",
      "execution_count": 47,
      "metadata": {
        "colab": {
          "base_uri": "https://localhost:8080/"
        },
        "id": "48cunLa_Rxo5",
        "outputId": "e281a723-284c-4617-aa88-f4caa9009775"
      },
      "outputs": [
        {
          "output_type": "execute_result",
          "data": {
            "text/plain": [
              "dict_keys(['loss', 'mse', 'val_loss', 'val_mse'])"
            ]
          },
          "metadata": {},
          "execution_count": 47
        }
      ],
      "source": [
        "history_1.history.keys()"
      ]
    },
    {
      "cell_type": "code",
      "execution_count": 48,
      "metadata": {
        "colab": {
          "base_uri": "https://localhost:8080/",
          "height": 839
        },
        "id": "mdiBhwmzlygM",
        "outputId": "393b7e3b-8d4c-4ea9-8942-8fbbbfd6167c"
      },
      "outputs": [
        {
          "output_type": "display_data",
          "data": {
            "text/plain": [
              "<Figure size 720x504 with 1 Axes>"
            ],
            "image/png": "[encoded data removed]"
          },
          "metadata": {
            "needs_background": "light"
          }
        },
        {
          "output_type": "display_data",
          "data": {
            "text/plain": [
              "<Figure size 720x504 with 1 Axes>"
            ],
            "image/png": "[encoded data removed]"
          },
          "metadata": {
            "needs_background": "light"
          }
        }
      ],
      "source": [
        "import matplotlib.pyplot as plt\n",
        "plt.figure(figsize=(10, 7))\n",
        "plt.plot(history_1.history['loss'], label = 'train_loss')\n",
        "plt.plot(history_1.history['val_loss'], label = 'test_loss')\n",
        "plt.legend()\n",
        "\n",
        "plt.figure(figsize=(10, 7))\n",
        "plt.plot(history_1.history['mse'], label = 'train_mse')\n",
        "plt.plot(history_1.history['val_mse'], label = 'test_mse')\n",
        "plt.legend()\n",
        "plt.show();"
      ]
    },
    {
      "cell_type": "markdown",
      "metadata": {
        "id": "8xRqRnnanRuX"
      },
      "source": [
        "## Model 2: Dense Model - Concat(Embeddings) as input to dense model"
      ]
    },
    {
      "cell_type": "code",
      "source": [
        "# Since working only with df_train and df_test, deleting df\n",
        "del df"
      ],
      "metadata": {
        "id": "0WrjGT7XExPm"
      },
      "execution_count": 57,
      "outputs": []
    },
    {
      "cell_type": "code",
      "execution_count": 58,
      "metadata": {
        "colab": {
          "base_uri": "https://localhost:8080/",
          "height": 644
        },
        "id": "wz-2JDnzopAP",
        "outputId": "e8ca2ddb-3576-4d61-fb40-6532e3ec3329"
      },
      "outputs": [
        {
          "output_type": "execute_result",
          "data": {
            "image/png": "[encoded data removed]",
            "text/plain": [
              "<IPython.core.display.Image object>"
            ]
          },
          "metadata": {},
          "execution_count": 58
        }
      ],
      "source": [
        "u = tf.keras.Input(shape=(1,), name = \"user_id_input\")\n",
        "m = tf.keras.Input(shape=(1,), name = \"movie_id_input\")\n",
        "\n",
        "emb_u = Embedding(input_dim = N,\n",
        "                  output_dim = K,\n",
        "                  embeddings_regularizer = L2(l2=REG),\n",
        "                  name = \"user_id_embedding\")(u)\n",
        "emb_m = Embedding(input_dim = M,\n",
        "                  output_dim = K,\n",
        "                  embeddings_regularizer = L2(l2=REG),\n",
        "                  name = \"movie_id_embedding\")(m)\n",
        "\n",
        "## Concatenate User and Movie ID embeddings\n",
        "x = Concatenate(name = \"concat_embeddings\")([emb_u, emb_m])\n",
        "x = Flatten()(x)\n",
        "x = Dense(units = 128, activation = 'relu', name = \"dense_hidden_layer\")(x)\n",
        "outputs = Dense(units = 1, activation = None, name = \"output_layer\")(x)\n",
        "\n",
        "model_2 = tf.keras.Model(inputs = [u, m], \n",
        "                         outputs = outputs, \n",
        "                         name = \"model_2_dense_model\")\n",
        "\n",
        "tf.keras.utils.plot_model(model_2, show_shapes = True)"
      ]
    },
    {
      "cell_type": "code",
      "execution_count": 59,
      "metadata": {
        "colab": {
          "base_uri": "https://localhost:8080/"
        },
        "id": "iJwZOFfPqVf1",
        "outputId": "fc27d544-03ef-4903-e736-51a3b87116cd"
      },
      "outputs": [
        {
          "output_type": "stream",
          "name": "stdout",
          "text": [
            "Epoch 1/5\n",
            "33701/33701 [==============================] - 102s 3ms/step - loss: 0.9561 - mse: 0.9561 - val_loss: 0.9524 - val_mse: 0.9524\n",
            "Epoch 2/5\n",
            "33701/33701 [==============================] - 110s 3ms/step - loss: 0.9496 - mse: 0.9496 - val_loss: 0.9505 - val_mse: 0.9505\n",
            "Epoch 3/5\n",
            "33701/33701 [==============================] - 103s 3ms/step - loss: 0.9489 - mse: 0.9489 - val_loss: 0.9486 - val_mse: 0.9486\n",
            "Epoch 4/5\n",
            "33701/33701 [==============================] - 103s 3ms/step - loss: 0.9483 - mse: 0.9483 - val_loss: 0.9497 - val_mse: 0.9497\n",
            "Epoch 5/5\n",
            "33701/33701 [==============================] - 102s 3ms/step - loss: 0.9478 - mse: 0.9478 - val_loss: 0.9484 - val_mse: 0.9484\n"
          ]
        }
      ],
      "source": [
        "model_2.compile(\n",
        "    loss = 'mse',\n",
        "    optimizer = tf.keras.optimizers.SGD(learning_rate = 0.01, momentum = 0.9),\n",
        "    metrics = ['mse']\n",
        ")\n",
        "\n",
        "history_2 = model_2.fit(\n",
        "    x = [df_train.userId.values, df_train.movie_idx.values],\n",
        "    y = df_train.rating.values - mu,\n",
        "    epochs = EPOCHS,\n",
        "    batch_size = 128,\n",
        "    validation_data = (\n",
        "        [df_test.userId.values, df_test.movie_idx.values],\n",
        "        df_test.rating.values - mu\n",
        "    )## Evaluate on 10% data during training \n",
        ")"
      ]
    },
    {
      "cell_type": "code",
      "execution_count": 60,
      "metadata": {
        "colab": {
          "base_uri": "https://localhost:8080/"
        },
        "id": "YZm6TGmssTCr",
        "outputId": "69ae0909-3ee5-4ffd-cf88-824b7dc4a2bf"
      },
      "outputs": [
        {
          "output_type": "stream",
          "name": "stdout",
          "text": [
            "33701/33701 [==============================] - 68s 2ms/step - loss: 0.9484 - mse: 0.9484\n"
          ]
        },
        {
          "output_type": "execute_result",
          "data": {
            "text/plain": [
              "[0.9484151005744934, 0.9484151005744934]"
            ]
          },
          "metadata": {},
          "execution_count": 60
        }
      ],
      "source": [
        "results_2 = model_2.evaluate([df_test.userId.values, df_test.movie_idx.values],\n",
        "                             df_test.rating.values - mu)\n",
        "results_2"
      ]
    },
    {
      "cell_type": "code",
      "execution_count": 61,
      "metadata": {
        "colab": {
          "base_uri": "https://localhost:8080/",
          "height": 444
        },
        "id": "hHZM7fJusc6A",
        "outputId": "6dec605d-d4b4-489e-f69a-8600fad858dc"
      },
      "outputs": [
        {
          "output_type": "display_data",
          "data": {
            "text/plain": [
              "<Figure size 720x504 with 1 Axes>"
            ],
            "image/png": "[encoded data removed]"
          },
          "metadata": {
            "needs_background": "light"
          }
        }
      ],
      "source": [
        "plt.figure(figsize=(10, 7))\n",
        "plt.plot(history_2.history['loss'], label = 'train_loss')\n",
        "plt.plot(history_2.history['val_loss'], label = 'test_loss')\n",
        "plt.title(\"Loss curve for Dense Model\")\n",
        "plt.legend()\n",
        "plt.show();"
      ]
    },
    {
      "cell_type": "markdown",
      "metadata": {
        "id": "4NhqAihoq0Gs"
      },
      "source": [
        "## Model 3: Add outputs of model 1 and 2 (MF and Dense)"
      ]
    },
    {
      "cell_type": "code",
      "execution_count": 62,
      "metadata": {
        "colab": {
          "base_uri": "https://localhost:8080/",
          "height": 440
        },
        "id": "vClxKuz_sjn5",
        "outputId": "a248eb0b-7b26-4f08-f2da-02c8bb7664e3"
      },
      "outputs": [
        {
          "output_type": "execute_result",
          "data": {
            "image/png": "[encoded data removed]",
            "text/plain": [
              "<IPython.core.display.Image object>"
            ]
          },
          "metadata": {},
          "execution_count": 62
        }
      ],
      "source": [
        "from numpy.ma.core import empty\n",
        "u = Input(shape = (1,), name = \"user_id_input\")\n",
        "m = Input(shape = (1,), name = \"movie_id_input\")\n",
        "\n",
        "emb_u = Embedding(input_dim = N,\n",
        "                  output_dim = K,\n",
        "                  embeddings_regularizer = L2(l2=REG),\n",
        "                  name = \"user_id_emb\")(u)\n",
        "\n",
        "emb_m = Embedding(input_dim = M,\n",
        "                  output_dim = K,\n",
        "                  embeddings_regularizer = L2(l2=REG),\n",
        "                  name = \"movie_id_emb\")(m)\n",
        "\n",
        "## MF branch\n",
        "user_bias_emb = Embedding(input_dim = N,\n",
        "                          output_dim = 1,\n",
        "                          embeddings_regularizer = L2(l2=REG),\n",
        "                          name = \"user_bias_emb\")(u)\n",
        "\n",
        "movie_bias_emb = Embedding(input_dim = M,\n",
        "                           output_dim = 1,\n",
        "                           embeddings_regularizer = L2(l2=REG),\n",
        "                           name = \"movie_bias_emb\")(m)\n",
        "\n",
        "x = Dot(axes=2, name = \"dot_prod_user_movie_emb\")([emb_u, emb_m])\n",
        "x = Add(name = \"add_dot__user_bias__movie_bias\")([x, user_bias_emb, movie_bias_emb])\n",
        "y1 = Flatten()(x)\n",
        "\n",
        "## Deep NN branch\n",
        "con = Concatenate(name = \"concat_embeddings\")([emb_u, emb_m])\n",
        "x = Flatten()(con)\n",
        "x = Dense(128, activation = 'relu')(x)\n",
        "y2 = Dense(1, activation = None)(x)\n",
        "\n",
        "y = Add()([y1, y2])\n",
        "\n",
        "model_3 = tf.keras.Model(inputs = [u, m],\n",
        "                         outputs = y, \n",
        "                         name = \"model_3_add_op_model1_2\")\n",
        "\n",
        "tf.keras.utils.plot_model(model_3, show_shapes = True)"
      ]
    },
    {
      "cell_type": "code",
      "execution_count": 63,
      "metadata": {
        "colab": {
          "base_uri": "https://localhost:8080/"
        },
        "id": "mmYDQrYlvrHv",
        "outputId": "eade9cbb-b4d3-436b-9e10-b75e5e635ebb"
      },
      "outputs": [
        {
          "output_type": "stream",
          "name": "stdout",
          "text": [
            "Model: \"model_3_add_op_model1_2\"\n",
            "__________________________________________________________________________________________________\n",
            " Layer (type)                   Output Shape         Param #     Connected to                     \n",
            "==================================================================================================\n",
            " user_id_input (InputLayer)     [(None, 1)]          0           []                               \n",
            "                                                                                                  \n",
            " movie_id_input (InputLayer)    [(None, 1)]          0           []                               \n",
            "                                                                                                  \n",
            " user_id_emb (Embedding)        (None, 1, 10)        10000       ['user_id_input[0][0]']          \n",
            "                                                                                                  \n",
            " movie_id_emb (Embedding)       (None, 1, 10)        2000        ['movie_id_input[0][0]']         \n",
            "                                                                                                  \n",
            " concat_embeddings (Concatenate  (None, 1, 20)       0           ['user_id_emb[0][0]',            \n",
            " )                                                                'movie_id_emb[0][0]']           \n",
            "                                                                                                  \n",
            " dot_prod_user_movie_emb (Dot)  (None, 1, 1)         0           ['user_id_emb[0][0]',            \n",
            "                                                                  'movie_id_emb[0][0]']           \n",
            "                                                                                                  \n",
            " user_bias_emb (Embedding)      (None, 1, 1)         1000        ['user_id_input[0][0]']          \n",
            "                                                                                                  \n",
            " movie_bias_emb (Embedding)     (None, 1, 1)         200         ['movie_id_input[0][0]']         \n",
            "                                                                                                  \n",
            " flatten_3 (Flatten)            (None, 20)           0           ['concat_embeddings[0][0]']      \n",
            "                                                                                                  \n",
            " add_dot__user_bias__movie_bias  (None, 1, 1)        0           ['dot_prod_user_movie_emb[0][0]',\n",
            "  (Add)                                                           'user_bias_emb[0][0]',          \n",
            "                                                                  'movie_bias_emb[0][0]']         \n",
            "                                                                                                  \n",
            " dense (Dense)                  (None, 128)          2688        ['flatten_3[0][0]']              \n",
            "                                                                                                  \n",
            " flatten_2 (Flatten)            (None, 1)            0           ['add_dot__user_bias__movie_bias[\n",
            "                                                                 0][0]']                          \n",
            "                                                                                                  \n",
            " dense_1 (Dense)                (None, 1)            129         ['dense[0][0]']                  \n",
            "                                                                                                  \n",
            " add (Add)                      (None, 1)            0           ['flatten_2[0][0]',              \n",
            "                                                                  'dense_1[0][0]']                \n",
            "                                                                                                  \n",
            "==================================================================================================\n",
            "Total params: 16,017\n",
            "Trainable params: 16,017\n",
            "Non-trainable params: 0\n",
            "__________________________________________________________________________________________________\n"
          ]
        }
      ],
      "source": [
        "model_3.summary()"
      ]
    },
    {
      "cell_type": "code",
      "execution_count": null,
      "metadata": {
        "colab": {
          "background_save": true,
          "base_uri": "https://localhost:8080/"
        },
        "id": "oWA52Z3uwCxb",
        "outputId": "db6bc87d-5e74-4053-a55c-674e35707f46"
      },
      "outputs": [
        {
          "output_type": "stream",
          "name": "stdout",
          "text": [
            "Epoch 1/5\n",
            "27154/33701 [=======================>......] - ETA: 19s - loss: 0.9569 - mse: 0.9569"
          ]
        }
      ],
      "source": [
        "model_3.compile(\n",
        "    loss = 'mse',\n",
        "    optimizer = tf.keras.optimizers.SGD(learning_rate = 0.01, momentum = 0.9),\n",
        "    metrics = ['mse']\n",
        ")\n",
        "\n",
        "history_3 = model_3.fit(\n",
        "    x = [df_train.userId.values, df_train.movie_idx.values],\n",
        "    y = df_train.rating.values - mu,\n",
        "    epochs = EPOCHS,\n",
        "    batch_size = 128,\n",
        "    validation_data = (\n",
        "        [df_test.userId.values, df_test.movie_idx.values],\n",
        "        df_test.rating.values - mu\n",
        "    )\n",
        ")"
      ]
    },
    {
      "cell_type": "code",
      "execution_count": null,
      "metadata": {
        "colab": {
          "background_save": true
        },
        "id": "pjYQawZwwNN5"
      },
      "outputs": [],
      "source": [
        ""
      ]
    }
  ],
  "metadata": {
    "accelerator": "GPU",
    "colab": {
      "collapsed_sections": [],
      "name": "01_matrix_factorization_for_recommender_systems_movie_lens.ipynb",
      "provenance": [],
      "include_colab_link": true
    },
    "gpuClass": "standard",
    "kernelspec": {
      "display_name": "Python 3",
      "name": "python3"
    },
    "language_info": {
      "name": "python"
    }
  },
  "nbformat": 4,
  "nbformat_minor": 0
}